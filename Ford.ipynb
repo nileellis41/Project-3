{
 "cells": [
  {
   "cell_type": "markdown",
   "metadata": {},
   "source": [
    "# Picture Perfect\n",
    "\n",
    "Still in your role as a data analyst for a video streaming service, you have now been asked by your manager to compare and contrast the revenue numbers by quarter for the various international regions.\n",
    "\n",
    "Be sure to consult the [HvPlot Customization](https://hvplot.holoviz.org/user_guide/Customization.html) page for additional opportunities of aesthetic improvement."
   ]
  },
  {
   "cell_type": "code",
   "execution_count": 23,
   "metadata": {},
   "outputs": [],
   "source": [
    "# Import the required libraries and dependencies\n",
    "import pandas as pd\n",
    "import hvplot.pandas\n",
    "from pathlib import Path"
   ]
  },
  {
   "cell_type": "markdown",
   "metadata": {},
   "source": [
    "## Step 1: Prepare the Regional Revenue DataFrame"
   ]
  },
  {
   "cell_type": "code",
   "execution_count": 24,
   "metadata": {},
   "outputs": [
    {
     "data": {
      "text/html": [
       "<div>\n",
       "<style scoped>\n",
       "    .dataframe tbody tr th:only-of-type {\n",
       "        vertical-align: middle;\n",
       "    }\n",
       "\n",
       "    .dataframe tbody tr th {\n",
       "        vertical-align: top;\n",
       "    }\n",
       "\n",
       "    .dataframe thead th {\n",
       "        text-align: right;\n",
       "    }\n",
       "</style>\n",
       "<table border=\"1\" class=\"dataframe\">\n",
       "  <thead>\n",
       "    <tr style=\"text-align: right;\">\n",
       "      <th></th>\n",
       "      <th>Ticker</th>\n",
       "      <th>Total Revenue (FQ22023) ($000)</th>\n",
       "      <th>Total Revenue (FQ12023) ($000)</th>\n",
       "      <th>Total Revenue (FQ42022) ($000)</th>\n",
       "      <th>Total Revenue (FQ32022) ($000)</th>\n",
       "      <th>Total Revenue (FQ22022) ($000)</th>\n",
       "    </tr>\n",
       "  </thead>\n",
       "  <tbody>\n",
       "    <tr>\n",
       "      <th>0</th>\n",
       "      <td>F</td>\n",
       "      <td>44954000.0</td>\n",
       "      <td>41474000.0</td>\n",
       "      <td>43999000.0</td>\n",
       "      <td>39392000.0</td>\n",
       "      <td>40190000.0</td>\n",
       "    </tr>\n",
       "    <tr>\n",
       "      <th>1</th>\n",
       "      <td>HD</td>\n",
       "      <td>43792000.0</td>\n",
       "      <td>38908000.0</td>\n",
       "      <td>35719000.0</td>\n",
       "      <td>36820000.0</td>\n",
       "      <td>41118000.0</td>\n",
       "    </tr>\n",
       "    <tr>\n",
       "      <th>2</th>\n",
       "      <td>NKE</td>\n",
       "      <td>13315000.0</td>\n",
       "      <td>12687000.0</td>\n",
       "      <td>12234000.0</td>\n",
       "      <td>10871000.0</td>\n",
       "      <td>11357000.0</td>\n",
       "    </tr>\n",
       "    <tr>\n",
       "      <th>3</th>\n",
       "      <td>HLT</td>\n",
       "      <td>2671000.0</td>\n",
       "      <td>936000.0</td>\n",
       "      <td>1069000.0</td>\n",
       "      <td>1024000.0</td>\n",
       "      <td>973000.0</td>\n",
       "    </tr>\n",
       "    <tr>\n",
       "      <th>4</th>\n",
       "      <td>RL</td>\n",
       "      <td>1579900.0</td>\n",
       "      <td>1490600.0</td>\n",
       "      <td>1522700.0</td>\n",
       "      <td>1815400.0</td>\n",
       "      <td>1504100.0</td>\n",
       "    </tr>\n",
       "  </tbody>\n",
       "</table>\n",
       "</div>"
      ],
      "text/plain": [
       "  Ticker   Total Revenue (FQ22023) ($000)  Total Revenue (FQ12023) ($000)  \\\n",
       "0       F                      44954000.0                      41474000.0   \n",
       "1      HD                      43792000.0                      38908000.0   \n",
       "2     NKE                      13315000.0                      12687000.0   \n",
       "3     HLT                       2671000.0                        936000.0   \n",
       "4      RL                       1579900.0                       1490600.0   \n",
       "\n",
       "   Total Revenue (FQ42022) ($000)  Total Revenue (FQ32022) ($000)  \\\n",
       "0                      43999000.0                      39392000.0   \n",
       "1                      35719000.0                      36820000.0   \n",
       "2                      12234000.0                      10871000.0   \n",
       "3                       1069000.0                       1024000.0   \n",
       "4                       1522700.0                       1815400.0   \n",
       "\n",
       "   Total Revenue (FQ22022) ($000)  \n",
       "0                      40190000.0  \n",
       "1                      41118000.0  \n",
       "2                      11357000.0  \n",
       "3                        973000.0  \n",
       "4                       1504100.0  "
      ]
     },
     "execution_count": 24,
     "metadata": {},
     "output_type": "execute_result"
    }
   ],
   "source": [
    "# Read in regional_revenue.csv file into a Pandas DataFrame\n",
    "stock_revenue_df = pd.read_csv(Path(\"cdr.csv\"))\n",
    "\n",
    "# Review the DataFrame\n",
    "stock_revenue_df.head()"
   ]
  },
  {
   "cell_type": "markdown",
   "metadata": {
    "tags": []
   },
   "source": [
    "## Step 2: Create a plot that visualizes the growth in revenue for the United States and Canada"
   ]
  },
  {
   "cell_type": "code",
   "execution_count": 25,
   "metadata": {},
   "outputs": [],
   "source": [
    "# Set the index of the DataFrame to Years\n",
    "stock_revenue_df = stock_revenue_df.set_index('Ticker ')"
   ]
  },
  {
   "cell_type": "code",
   "execution_count": 34,
   "metadata": {},
   "outputs": [
    {
     "data": {},
     "metadata": {},
     "output_type": "display_data"
    },
    {
     "data": {
      "application/vnd.holoviews_exec.v0+json": "",
      "text/html": [
       "<div id='1797'>\n",
       "  <div class=\"bk-root\" id=\"caea0839-b991-49b1-b57d-b0f774e10b41\" data-root-id=\"1797\"></div>\n",
       "</div>\n",
       "<script type=\"application/javascript\">(function(root) {\n",
       "  function embed_document(root) {\n",
       "    var docs_json = {\"cd6c7779-a129-422e-92fb-cad7b722165b\":{\"defs\":[{\"extends\":null,\"module\":null,\"name\":\"ReactiveHTML1\",\"overrides\":[],\"properties\":[]},{\"extends\":null,\"module\":null,\"name\":\"FlexBox1\",\"overrides\":[],\"properties\":[{\"default\":\"flex-start\",\"kind\":null,\"name\":\"align_content\"},{\"default\":\"flex-start\",\"kind\":null,\"name\":\"align_items\"},{\"default\":\"row\",\"kind\":null,\"name\":\"flex_direction\"},{\"default\":\"wrap\",\"kind\":null,\"name\":\"flex_wrap\"},{\"default\":\"flex-start\",\"kind\":null,\"name\":\"justify_content\"}]},{\"extends\":null,\"module\":null,\"name\":\"GridStack1\",\"overrides\":[],\"properties\":[{\"default\":\"warn\",\"kind\":null,\"name\":\"mode\"},{\"default\":null,\"kind\":null,\"name\":\"ncols\"},{\"default\":null,\"kind\":null,\"name\":\"nrows\"},{\"default\":true,\"kind\":null,\"name\":\"allow_resize\"},{\"default\":true,\"kind\":null,\"name\":\"allow_drag\"},{\"default\":[],\"kind\":null,\"name\":\"state\"}]},{\"extends\":null,\"module\":null,\"name\":\"click1\",\"overrides\":[],\"properties\":[{\"default\":\"\",\"kind\":null,\"name\":\"terminal_output\"},{\"default\":\"\",\"kind\":null,\"name\":\"debug_name\"},{\"default\":0,\"kind\":null,\"name\":\"clears\"}]},{\"extends\":null,\"module\":null,\"name\":\"NotificationAreaBase1\",\"overrides\":[],\"properties\":[{\"default\":\"bottom-right\",\"kind\":null,\"name\":\"position\"},{\"default\":0,\"kind\":null,\"name\":\"_clear\"}]},{\"extends\":null,\"module\":null,\"name\":\"NotificationArea1\",\"overrides\":[],\"properties\":[{\"default\":[],\"kind\":null,\"name\":\"notifications\"},{\"default\":\"bottom-right\",\"kind\":null,\"name\":\"position\"},{\"default\":0,\"kind\":null,\"name\":\"_clear\"},{\"default\":[{\"background\":\"#ffc107\",\"icon\":{\"className\":\"fas fa-exclamation-triangle\",\"color\":\"white\",\"tagName\":\"i\"},\"type\":\"warning\"},{\"background\":\"#007bff\",\"icon\":{\"className\":\"fas fa-info-circle\",\"color\":\"white\",\"tagName\":\"i\"},\"type\":\"info\"}],\"kind\":null,\"name\":\"types\"}]},{\"extends\":null,\"module\":null,\"name\":\"Notification\",\"overrides\":[],\"properties\":[{\"default\":null,\"kind\":null,\"name\":\"background\"},{\"default\":3000,\"kind\":null,\"name\":\"duration\"},{\"default\":null,\"kind\":null,\"name\":\"icon\"},{\"default\":\"\",\"kind\":null,\"name\":\"message\"},{\"default\":null,\"kind\":null,\"name\":\"notification_type\"},{\"default\":false,\"kind\":null,\"name\":\"_destroyed\"}]},{\"extends\":null,\"module\":null,\"name\":\"TemplateActions1\",\"overrides\":[],\"properties\":[{\"default\":0,\"kind\":null,\"name\":\"open_modal\"},{\"default\":0,\"kind\":null,\"name\":\"close_modal\"}]},{\"extends\":null,\"module\":null,\"name\":\"MaterialTemplateActions1\",\"overrides\":[],\"properties\":[{\"default\":0,\"kind\":null,\"name\":\"open_modal\"},{\"default\":0,\"kind\":null,\"name\":\"close_modal\"}]}],\"roots\":{\"references\":[{\"attributes\":{},\"id\":\"1814\",\"type\":\"BasicTicker\"},{\"attributes\":{},\"id\":\"1856\",\"type\":\"UnionRenderers\"},{\"attributes\":{},\"id\":\"1817\",\"type\":\"SaveTool\"},{\"attributes\":{},\"id\":\"1843\",\"type\":\"BasicTickFormatter\"},{\"attributes\":{\"overlay\":{\"id\":\"1822\"}},\"id\":\"1820\",\"type\":\"BoxZoomTool\"},{\"attributes\":{},\"id\":\"1821\",\"type\":\"ResetTool\"},{\"attributes\":{\"children\":[{\"id\":\"1801\"}],\"height\":300,\"margin\":[0,0,0,0],\"name\":\"Row01952\",\"sizing_mode\":\"fixed\",\"tags\":[\"embedded\"],\"width\":700},\"id\":\"1797\",\"type\":\"Row\"},{\"attributes\":{\"bottom_units\":\"screen\",\"coordinates\":null,\"fill_alpha\":0.5,\"fill_color\":\"lightgrey\",\"group\":null,\"left_units\":\"screen\",\"level\":\"overlay\",\"line_alpha\":1.0,\"line_color\":\"black\",\"line_dash\":[4,4],\"line_width\":2,\"right_units\":\"screen\",\"syncable\":false,\"top_units\":\"screen\"},\"id\":\"1822\",\"type\":\"BoxAnnotation\"},{\"attributes\":{\"axis\":{\"id\":\"1810\"},\"coordinates\":null,\"grid_line_color\":null,\"group\":null,\"ticker\":null},\"id\":\"1812\",\"type\":\"Grid\"},{\"attributes\":{\"bottom\":{\"value\":0},\"fill_alpha\":{\"value\":1.0},\"fill_color\":{\"value\":\"#30a2da\"},\"hatch_alpha\":{\"value\":1.0},\"hatch_color\":{\"value\":\"#30a2da\"},\"hatch_scale\":{\"value\":12.0},\"hatch_weight\":{\"value\":1.0},\"line_alpha\":{\"value\":1.0},\"line_cap\":{\"value\":\"butt\"},\"line_color\":{\"value\":\"black\"},\"line_dash\":{\"value\":[]},\"line_dash_offset\":{\"value\":0},\"line_join\":{\"value\":\"bevel\"},\"line_width\":{\"value\":1},\"top\":{\"field\":\"Total_Revenue_left_parenthesis_FQ22022_right_parenthesis_left_parenthesis_000_right_parenthesis\"},\"width\":{\"value\":0.8},\"x\":{\"field\":\"Ticker\"}},\"id\":\"1838\",\"type\":\"VBar\"},{\"attributes\":{},\"id\":\"1841\",\"type\":\"AllLabels\"},{\"attributes\":{\"data\":{\"Ticker\":[\"F\",\"HD\",\"NKE\",\"HLT\",\"RL\",\"CMG\",\"GM\",\"TSLA\",\"CCL\"],\"Total_Revenue_left_parenthesis_FQ22022_right_parenthesis_left_parenthesis_000_right_parenthesis\":{\"__ndarray__\":\"AAAAgAEqg0EAAACASZuDQQAAAABpqWVBAAAAAJCxLUEAAAAAZPM2QQAAAIDt4kBBAAAAwBwNgUEAAAAARyZwQQAAAAB0UUJB\",\"dtype\":\"float64\",\"order\":\"little\",\"shape\":[9]}},\"selected\":{\"id\":\"1831\"},\"selection_policy\":{\"id\":\"1856\"}},\"id\":\"1830\",\"type\":\"ColumnDataSource\"},{\"attributes\":{\"active_drag\":{\"id\":\"1818\"},\"active_scroll\":{\"id\":\"1819\"},\"tools\":[{\"id\":\"1800\"},{\"id\":\"1817\"},{\"id\":\"1818\"},{\"id\":\"1819\"},{\"id\":\"1820\"},{\"id\":\"1821\"}]},\"id\":\"1823\",\"type\":\"Toolbar\"},{\"attributes\":{\"end\":45132500.0,\"reset_end\":45132500.0,\"reset_start\":0.0,\"tags\":[[[\"Total Revenue (FQ22022) ($000)\",\"Total Revenue (FQ22022) ($000)\",null]]]},\"id\":\"1799\",\"type\":\"Range1d\"},{\"attributes\":{},\"id\":\"1806\",\"type\":\"CategoricalScale\"},{\"attributes\":{\"fill_alpha\":{\"value\":0.1},\"fill_color\":{\"value\":\"#30a2da\"},\"hatch_alpha\":{\"value\":0.1},\"hatch_color\":{\"value\":\"#30a2da\"},\"line_alpha\":{\"value\":0.1},\"top\":{\"field\":\"Total_Revenue_left_parenthesis_FQ22022_right_parenthesis_left_parenthesis_000_right_parenthesis\"},\"width\":{\"value\":0.8},\"x\":{\"field\":\"Ticker\"}},\"id\":\"1834\",\"type\":\"VBar\"},{\"attributes\":{\"factors\":[\"F\",\"HD\",\"NKE\",\"HLT\",\"RL\",\"CMG\",\"GM\",\"TSLA\",\"CCL\"],\"tags\":[[[\"Ticker \",\"Ticker \",null]]]},\"id\":\"1798\",\"type\":\"FactorRange\"},{\"attributes\":{},\"id\":\"1811\",\"type\":\"CategoricalTicker\"},{\"attributes\":{\"source\":{\"id\":\"1830\"}},\"id\":\"1837\",\"type\":\"CDSView\"},{\"attributes\":{\"fill_alpha\":{\"value\":0.2},\"fill_color\":{\"value\":\"#30a2da\"},\"hatch_alpha\":{\"value\":0.2},\"hatch_color\":{\"value\":\"#30a2da\"},\"line_alpha\":{\"value\":0.2},\"top\":{\"field\":\"Total_Revenue_left_parenthesis_FQ22022_right_parenthesis_left_parenthesis_000_right_parenthesis\"},\"width\":{\"value\":0.8},\"x\":{\"field\":\"Ticker\"}},\"id\":\"1835\",\"type\":\"VBar\"},{\"attributes\":{\"coordinates\":null,\"data_source\":{\"id\":\"1830\"},\"glyph\":{\"id\":\"1833\"},\"group\":null,\"hover_glyph\":null,\"muted_glyph\":{\"id\":\"1835\"},\"nonselection_glyph\":{\"id\":\"1834\"},\"selection_glyph\":{\"id\":\"1838\"},\"view\":{\"id\":\"1837\"}},\"id\":\"1836\",\"type\":\"GlyphRenderer\"},{\"attributes\":{\"below\":[{\"id\":\"1810\"}],\"center\":[{\"id\":\"1812\"},{\"id\":\"1816\"}],\"height\":300,\"left\":[{\"id\":\"1813\"}],\"margin\":[5,5,5,5],\"min_border_bottom\":10,\"min_border_left\":10,\"min_border_right\":10,\"min_border_top\":10,\"renderers\":[{\"id\":\"1836\"}],\"sizing_mode\":\"fixed\",\"title\":{\"id\":\"1802\"},\"toolbar\":{\"id\":\"1823\"},\"width\":700,\"x_range\":{\"id\":\"1798\"},\"x_scale\":{\"id\":\"1806\"},\"y_range\":{\"id\":\"1799\"},\"y_scale\":{\"id\":\"1808\"}},\"id\":\"1801\",\"subtype\":\"Figure\",\"type\":\"Plot\"},{\"attributes\":{\"axis_label\":\"Ticker \",\"coordinates\":null,\"formatter\":{\"id\":\"1840\"},\"group\":null,\"major_label_policy\":{\"id\":\"1841\"},\"ticker\":{\"id\":\"1811\"}},\"id\":\"1810\",\"type\":\"CategoricalAxis\"},{\"attributes\":{},\"id\":\"1831\",\"type\":\"Selection\"},{\"attributes\":{},\"id\":\"1840\",\"type\":\"CategoricalTickFormatter\"},{\"attributes\":{\"callback\":null,\"renderers\":[{\"id\":\"1836\"}],\"tags\":[\"hv_created\"],\"tooltips\":[[\"Ticker \",\"@{Ticker}\"],[\"Total Revenue (FQ22022) ($000)\",\"@{Total_Revenue_left_parenthesis_FQ22022_right_parenthesis_left_parenthesis_000_right_parenthesis}\"]]},\"id\":\"1800\",\"type\":\"HoverTool\"},{\"attributes\":{},\"id\":\"1844\",\"type\":\"AllLabels\"},{\"attributes\":{},\"id\":\"1808\",\"type\":\"LinearScale\"},{\"attributes\":{\"coordinates\":null,\"group\":null,\"text_color\":\"black\",\"text_font_size\":\"12pt\"},\"id\":\"1802\",\"type\":\"Title\"},{\"attributes\":{\"fill_color\":{\"value\":\"#30a2da\"},\"hatch_color\":{\"value\":\"#30a2da\"},\"top\":{\"field\":\"Total_Revenue_left_parenthesis_FQ22022_right_parenthesis_left_parenthesis_000_right_parenthesis\"},\"width\":{\"value\":0.8},\"x\":{\"field\":\"Ticker\"}},\"id\":\"1833\",\"type\":\"VBar\"},{\"attributes\":{\"axis_label\":\"Total Revenue (FQ22022) ($000)\",\"coordinates\":null,\"formatter\":{\"id\":\"1843\"},\"group\":null,\"major_label_policy\":{\"id\":\"1844\"},\"ticker\":{\"id\":\"1814\"}},\"id\":\"1813\",\"type\":\"LinearAxis\"},{\"attributes\":{},\"id\":\"1819\",\"type\":\"WheelZoomTool\"},{\"attributes\":{},\"id\":\"1818\",\"type\":\"PanTool\"},{\"attributes\":{\"axis\":{\"id\":\"1813\"},\"coordinates\":null,\"dimension\":1,\"grid_line_color\":null,\"group\":null,\"ticker\":null},\"id\":\"1816\",\"type\":\"Grid\"}],\"root_ids\":[\"1797\"]},\"title\":\"Bokeh Application\",\"version\":\"2.4.3\"}};\n",
       "    var render_items = [{\"docid\":\"cd6c7779-a129-422e-92fb-cad7b722165b\",\"root_ids\":[\"1797\"],\"roots\":{\"1797\":\"caea0839-b991-49b1-b57d-b0f774e10b41\"}}];\n",
       "    root.Bokeh.embed.embed_items_notebook(docs_json, render_items);\n",
       "    for (const render_item of render_items) {\n",
       "      for (const root_id of render_item.root_ids) {\n",
       "\tconst id_el = document.getElementById(root_id)\n",
       "\tif (id_el.children.length && (id_el.children[0].className === 'bk-root')) {\n",
       "\t  const root_el = id_el.children[0]\n",
       "\t  root_el.id = root_el.id + '-rendered'\n",
       "\t}\n",
       "      }\n",
       "    }\n",
       "  }\n",
       "  if (root.Bokeh !== undefined && root.Bokeh.Panel !== undefined) {\n",
       "    embed_document(root);\n",
       "  } else {\n",
       "    var attempts = 0;\n",
       "    var timer = setInterval(function(root) {\n",
       "      if (root.Bokeh !== undefined && root.Bokeh.Panel !== undefined) {\n",
       "        clearInterval(timer);\n",
       "        embed_document(root);\n",
       "      } else if (document.readyState == \"complete\") {\n",
       "        attempts++;\n",
       "        if (attempts > 200) {\n",
       "          clearInterval(timer);\n",
       "          console.log(\"Bokeh: ERROR: Unable to run BokehJS code because BokehJS library is missing\");\n",
       "        }\n",
       "      }\n",
       "    }, 25, root)\n",
       "  }\n",
       "})(window);</script>"
      ],
      "text/plain": [
       ":Bars   [Ticker ]   (Total Revenue (FQ22022) ($000))"
      ]
     },
     "execution_count": 34,
     "metadata": {
      "application/vnd.holoviews_exec.v0+json": {
       "id": "1797"
      }
     },
     "output_type": "execute_result"
    }
   ],
   "source": [
    "# Create a line plot of the US and Canada Revenue data\n",
    "stock_revenue_df.hvplot.bar(y='Total Revenue (FQ22022) ($000)')"
   ]
  },
  {
   "cell_type": "markdown",
   "metadata": {},
   "source": [
    "## Step 3: Add x- and y-axis labels to your plot. Rotate the x-axis plot ticks 45 degrees."
   ]
  },
  {
   "cell_type": "code",
   "execution_count": 37,
   "metadata": {},
   "outputs": [
    {
     "data": {},
     "metadata": {},
     "output_type": "display_data"
    },
    {
     "data": {
      "application/vnd.holoviews_exec.v0+json": "",
      "text/html": [
       "<div id='2024'>\n",
       "  <div class=\"bk-root\" id=\"6c1c75c9-4d12-4f04-871d-2d1c39d913a0\" data-root-id=\"2024\"></div>\n",
       "</div>\n",
       "<script type=\"application/javascript\">(function(root) {\n",
       "  function embed_document(root) {\n",
       "    var docs_json = {\"83a3de4c-0e93-466d-94af-88d31fe2bac8\":{\"defs\":[{\"extends\":null,\"module\":null,\"name\":\"ReactiveHTML1\",\"overrides\":[],\"properties\":[]},{\"extends\":null,\"module\":null,\"name\":\"FlexBox1\",\"overrides\":[],\"properties\":[{\"default\":\"flex-start\",\"kind\":null,\"name\":\"align_content\"},{\"default\":\"flex-start\",\"kind\":null,\"name\":\"align_items\"},{\"default\":\"row\",\"kind\":null,\"name\":\"flex_direction\"},{\"default\":\"wrap\",\"kind\":null,\"name\":\"flex_wrap\"},{\"default\":\"flex-start\",\"kind\":null,\"name\":\"justify_content\"}]},{\"extends\":null,\"module\":null,\"name\":\"GridStack1\",\"overrides\":[],\"properties\":[{\"default\":\"warn\",\"kind\":null,\"name\":\"mode\"},{\"default\":null,\"kind\":null,\"name\":\"ncols\"},{\"default\":null,\"kind\":null,\"name\":\"nrows\"},{\"default\":true,\"kind\":null,\"name\":\"allow_resize\"},{\"default\":true,\"kind\":null,\"name\":\"allow_drag\"},{\"default\":[],\"kind\":null,\"name\":\"state\"}]},{\"extends\":null,\"module\":null,\"name\":\"click1\",\"overrides\":[],\"properties\":[{\"default\":\"\",\"kind\":null,\"name\":\"terminal_output\"},{\"default\":\"\",\"kind\":null,\"name\":\"debug_name\"},{\"default\":0,\"kind\":null,\"name\":\"clears\"}]},{\"extends\":null,\"module\":null,\"name\":\"NotificationAreaBase1\",\"overrides\":[],\"properties\":[{\"default\":\"bottom-right\",\"kind\":null,\"name\":\"position\"},{\"default\":0,\"kind\":null,\"name\":\"_clear\"}]},{\"extends\":null,\"module\":null,\"name\":\"NotificationArea1\",\"overrides\":[],\"properties\":[{\"default\":[],\"kind\":null,\"name\":\"notifications\"},{\"default\":\"bottom-right\",\"kind\":null,\"name\":\"position\"},{\"default\":0,\"kind\":null,\"name\":\"_clear\"},{\"default\":[{\"background\":\"#ffc107\",\"icon\":{\"className\":\"fas fa-exclamation-triangle\",\"color\":\"white\",\"tagName\":\"i\"},\"type\":\"warning\"},{\"background\":\"#007bff\",\"icon\":{\"className\":\"fas fa-info-circle\",\"color\":\"white\",\"tagName\":\"i\"},\"type\":\"info\"}],\"kind\":null,\"name\":\"types\"}]},{\"extends\":null,\"module\":null,\"name\":\"Notification\",\"overrides\":[],\"properties\":[{\"default\":null,\"kind\":null,\"name\":\"background\"},{\"default\":3000,\"kind\":null,\"name\":\"duration\"},{\"default\":null,\"kind\":null,\"name\":\"icon\"},{\"default\":\"\",\"kind\":null,\"name\":\"message\"},{\"default\":null,\"kind\":null,\"name\":\"notification_type\"},{\"default\":false,\"kind\":null,\"name\":\"_destroyed\"}]},{\"extends\":null,\"module\":null,\"name\":\"TemplateActions1\",\"overrides\":[],\"properties\":[{\"default\":0,\"kind\":null,\"name\":\"open_modal\"},{\"default\":0,\"kind\":null,\"name\":\"close_modal\"}]},{\"extends\":null,\"module\":null,\"name\":\"MaterialTemplateActions1\",\"overrides\":[],\"properties\":[{\"default\":0,\"kind\":null,\"name\":\"open_modal\"},{\"default\":0,\"kind\":null,\"name\":\"close_modal\"}]}],\"roots\":{\"references\":[{\"attributes\":{\"bottom_units\":\"screen\",\"coordinates\":null,\"fill_alpha\":0.5,\"fill_color\":\"lightgrey\",\"group\":null,\"left_units\":\"screen\",\"level\":\"overlay\",\"line_alpha\":1.0,\"line_color\":\"black\",\"line_dash\":[4,4],\"line_width\":2,\"right_units\":\"screen\",\"syncable\":false,\"top_units\":\"screen\"},\"id\":\"2049\",\"type\":\"BoxAnnotation\"},{\"attributes\":{\"end\":45132500.0,\"reset_end\":45132500.0,\"reset_start\":0.0,\"tags\":[[[\"Total Revenue (FQ22022) ($000)\",\"Total Revenue (FQ22022) ($000)\",null]]]},\"id\":\"2026\",\"type\":\"Range1d\"},{\"attributes\":{\"bottom\":{\"value\":0},\"fill_alpha\":{\"value\":1.0},\"fill_color\":{\"value\":\"#30a2da\"},\"hatch_alpha\":{\"value\":1.0},\"hatch_color\":{\"value\":\"#30a2da\"},\"hatch_scale\":{\"value\":12.0},\"hatch_weight\":{\"value\":1.0},\"line_alpha\":{\"value\":1.0},\"line_cap\":{\"value\":\"butt\"},\"line_color\":{\"value\":\"black\"},\"line_dash\":{\"value\":[]},\"line_dash_offset\":{\"value\":0},\"line_join\":{\"value\":\"bevel\"},\"line_width\":{\"value\":1},\"top\":{\"field\":\"Total_Revenue_left_parenthesis_FQ22022_right_parenthesis_left_parenthesis_000_right_parenthesis\"},\"width\":{\"value\":0.8},\"x\":{\"field\":\"Ticker\"}},\"id\":\"2065\",\"type\":\"VBar\"},{\"attributes\":{\"factors\":[\"F\",\"HD\",\"NKE\",\"HLT\",\"RL\",\"CMG\",\"GM\",\"TSLA\",\"CCL\"],\"tags\":[[[\"Ticker \",\"Ticker \",null]]]},\"id\":\"2025\",\"type\":\"FactorRange\"},{\"attributes\":{},\"id\":\"2068\",\"type\":\"AllLabels\"},{\"attributes\":{\"fill_alpha\":{\"value\":0.1},\"fill_color\":{\"value\":\"#30a2da\"},\"hatch_alpha\":{\"value\":0.1},\"hatch_color\":{\"value\":\"#30a2da\"},\"line_alpha\":{\"value\":0.1},\"top\":{\"field\":\"Total_Revenue_left_parenthesis_FQ22022_right_parenthesis_left_parenthesis_000_right_parenthesis\"},\"width\":{\"value\":0.8},\"x\":{\"field\":\"Ticker\"}},\"id\":\"2061\",\"type\":\"VBar\"},{\"attributes\":{\"data\":{\"Ticker\":[\"F\",\"HD\",\"NKE\",\"HLT\",\"RL\",\"CMG\",\"GM\",\"TSLA\",\"CCL\"],\"Total_Revenue_left_parenthesis_FQ22022_right_parenthesis_left_parenthesis_000_right_parenthesis\":{\"__ndarray__\":\"AAAAgAEqg0EAAACASZuDQQAAAABpqWVBAAAAAJCxLUEAAAAAZPM2QQAAAIDt4kBBAAAAwBwNgUEAAAAARyZwQQAAAAB0UUJB\",\"dtype\":\"float64\",\"order\":\"little\",\"shape\":[9]}},\"selected\":{\"id\":\"2058\"},\"selection_policy\":{\"id\":\"2083\"}},\"id\":\"2057\",\"type\":\"ColumnDataSource\"},{\"attributes\":{\"below\":[{\"id\":\"2037\"}],\"center\":[{\"id\":\"2039\"},{\"id\":\"2043\"}],\"height\":300,\"left\":[{\"id\":\"2040\"}],\"margin\":[5,5,5,5],\"min_border_bottom\":10,\"min_border_left\":10,\"min_border_right\":10,\"min_border_top\":10,\"renderers\":[{\"id\":\"2063\"}],\"sizing_mode\":\"fixed\",\"title\":{\"id\":\"2029\"},\"toolbar\":{\"id\":\"2050\"},\"width\":700,\"x_range\":{\"id\":\"2025\"},\"x_scale\":{\"id\":\"2033\"},\"y_range\":{\"id\":\"2026\"},\"y_scale\":{\"id\":\"2035\"}},\"id\":\"2028\",\"subtype\":\"Figure\",\"type\":\"Plot\"},{\"attributes\":{\"active_drag\":{\"id\":\"2045\"},\"active_scroll\":{\"id\":\"2046\"},\"tools\":[{\"id\":\"2027\"},{\"id\":\"2044\"},{\"id\":\"2045\"},{\"id\":\"2046\"},{\"id\":\"2047\"},{\"id\":\"2048\"}]},\"id\":\"2050\",\"type\":\"Toolbar\"},{\"attributes\":{},\"id\":\"2071\",\"type\":\"AllLabels\"},{\"attributes\":{},\"id\":\"2035\",\"type\":\"LinearScale\"},{\"attributes\":{\"callback\":null,\"renderers\":[{\"id\":\"2063\"}],\"tags\":[\"hv_created\"],\"tooltips\":[[\"Ticker \",\"@{Ticker}\"],[\"Total Revenue (FQ22022) ($000)\",\"@{Total_Revenue_left_parenthesis_FQ22022_right_parenthesis_left_parenthesis_000_right_parenthesis}\"]]},\"id\":\"2027\",\"type\":\"HoverTool\"},{\"attributes\":{\"coordinates\":null,\"group\":null,\"text_color\":\"black\",\"text_font_size\":\"12pt\"},\"id\":\"2029\",\"type\":\"Title\"},{\"attributes\":{\"fill_color\":{\"value\":\"#30a2da\"},\"hatch_color\":{\"value\":\"#30a2da\"},\"top\":{\"field\":\"Total_Revenue_left_parenthesis_FQ22022_right_parenthesis_left_parenthesis_000_right_parenthesis\"},\"width\":{\"value\":0.8},\"x\":{\"field\":\"Ticker\"}},\"id\":\"2060\",\"type\":\"VBar\"},{\"attributes\":{\"source\":{\"id\":\"2057\"}},\"id\":\"2064\",\"type\":\"CDSView\"},{\"attributes\":{\"axis_label\":\"Ticker\",\"coordinates\":null,\"formatter\":{\"id\":\"2067\"},\"group\":null,\"major_label_orientation\":0.7853981633974483,\"major_label_policy\":{\"id\":\"2068\"},\"ticker\":{\"id\":\"2038\"}},\"id\":\"2037\",\"type\":\"CategoricalAxis\"},{\"attributes\":{},\"id\":\"2038\",\"type\":\"CategoricalTicker\"},{\"attributes\":{\"axis\":{\"id\":\"2037\"},\"coordinates\":null,\"grid_line_color\":null,\"group\":null,\"ticker\":null},\"id\":\"2039\",\"type\":\"Grid\"},{\"attributes\":{\"fill_alpha\":{\"value\":0.2},\"fill_color\":{\"value\":\"#30a2da\"},\"hatch_alpha\":{\"value\":0.2},\"hatch_color\":{\"value\":\"#30a2da\"},\"line_alpha\":{\"value\":0.2},\"top\":{\"field\":\"Total_Revenue_left_parenthesis_FQ22022_right_parenthesis_left_parenthesis_000_right_parenthesis\"},\"width\":{\"value\":0.8},\"x\":{\"field\":\"Ticker\"}},\"id\":\"2062\",\"type\":\"VBar\"},{\"attributes\":{},\"id\":\"2058\",\"type\":\"Selection\"},{\"attributes\":{\"coordinates\":null,\"data_source\":{\"id\":\"2057\"},\"glyph\":{\"id\":\"2060\"},\"group\":null,\"hover_glyph\":null,\"muted_glyph\":{\"id\":\"2062\"},\"nonselection_glyph\":{\"id\":\"2061\"},\"selection_glyph\":{\"id\":\"2065\"},\"view\":{\"id\":\"2064\"}},\"id\":\"2063\",\"type\":\"GlyphRenderer\"},{\"attributes\":{\"children\":[{\"id\":\"2028\"}],\"height\":300,\"margin\":[0,0,0,0],\"name\":\"Row02253\",\"sizing_mode\":\"fixed\",\"tags\":[\"embedded\"],\"width\":700},\"id\":\"2024\",\"type\":\"Row\"},{\"attributes\":{},\"id\":\"2045\",\"type\":\"PanTool\"},{\"attributes\":{\"axis_label\":\"Total Revenue (FQ22022) ($000)\",\"coordinates\":null,\"formatter\":{\"id\":\"2070\"},\"group\":null,\"major_label_policy\":{\"id\":\"2071\"},\"ticker\":{\"id\":\"2041\"}},\"id\":\"2040\",\"type\":\"LinearAxis\"},{\"attributes\":{\"axis\":{\"id\":\"2040\"},\"coordinates\":null,\"dimension\":1,\"grid_line_color\":null,\"group\":null,\"ticker\":null},\"id\":\"2043\",\"type\":\"Grid\"},{\"attributes\":{},\"id\":\"2067\",\"type\":\"CategoricalTickFormatter\"},{\"attributes\":{},\"id\":\"2041\",\"type\":\"BasicTicker\"},{\"attributes\":{},\"id\":\"2046\",\"type\":\"WheelZoomTool\"},{\"attributes\":{},\"id\":\"2033\",\"type\":\"CategoricalScale\"},{\"attributes\":{},\"id\":\"2044\",\"type\":\"SaveTool\"},{\"attributes\":{},\"id\":\"2083\",\"type\":\"UnionRenderers\"},{\"attributes\":{\"overlay\":{\"id\":\"2049\"}},\"id\":\"2047\",\"type\":\"BoxZoomTool\"},{\"attributes\":{},\"id\":\"2048\",\"type\":\"ResetTool\"},{\"attributes\":{},\"id\":\"2070\",\"type\":\"BasicTickFormatter\"}],\"root_ids\":[\"2024\"]},\"title\":\"Bokeh Application\",\"version\":\"2.4.3\"}};\n",
       "    var render_items = [{\"docid\":\"83a3de4c-0e93-466d-94af-88d31fe2bac8\",\"root_ids\":[\"2024\"],\"roots\":{\"2024\":\"6c1c75c9-4d12-4f04-871d-2d1c39d913a0\"}}];\n",
       "    root.Bokeh.embed.embed_items_notebook(docs_json, render_items);\n",
       "    for (const render_item of render_items) {\n",
       "      for (const root_id of render_item.root_ids) {\n",
       "\tconst id_el = document.getElementById(root_id)\n",
       "\tif (id_el.children.length && (id_el.children[0].className === 'bk-root')) {\n",
       "\t  const root_el = id_el.children[0]\n",
       "\t  root_el.id = root_el.id + '-rendered'\n",
       "\t}\n",
       "      }\n",
       "    }\n",
       "  }\n",
       "  if (root.Bokeh !== undefined && root.Bokeh.Panel !== undefined) {\n",
       "    embed_document(root);\n",
       "  } else {\n",
       "    var attempts = 0;\n",
       "    var timer = setInterval(function(root) {\n",
       "      if (root.Bokeh !== undefined && root.Bokeh.Panel !== undefined) {\n",
       "        clearInterval(timer);\n",
       "        embed_document(root);\n",
       "      } else if (document.readyState == \"complete\") {\n",
       "        attempts++;\n",
       "        if (attempts > 200) {\n",
       "          clearInterval(timer);\n",
       "          console.log(\"Bokeh: ERROR: Unable to run BokehJS code because BokehJS library is missing\");\n",
       "        }\n",
       "      }\n",
       "    }, 25, root)\n",
       "  }\n",
       "})(window);</script>"
      ],
      "text/plain": [
       ":Bars   [Ticker ]   (Total Revenue (FQ22022) ($000))"
      ]
     },
     "execution_count": 37,
     "metadata": {
      "application/vnd.holoviews_exec.v0+json": {
       "id": "2024"
      }
     },
     "output_type": "execute_result"
    }
   ],
   "source": [
    "# Rotate the x-axis ticks by 45 degrees and add x- and y-axis labels to the plot\n",
    "stock_revenue_df.hvplot.bar(\n",
    "    xlabel=\"Ticker\",\n",
    "    y=\"Total Revenue (FQ22022) ($000)\",\n",
    "    ylabel=\"Total Revenue (FQ22022) ($000)\", \n",
    "    rot=45)"
   ]
  },
  {
   "cell_type": "markdown",
   "metadata": {},
   "source": [
    "## Step 4:  Add a title to the US and Canada revenue plot\n"
   ]
  },
  {
   "cell_type": "code",
   "execution_count": 46,
   "metadata": {},
   "outputs": [],
   "source": [
    "# Add a title to your US and Canada revenue plot using the label parameter\n",
    "firstg = stock_revenue_df.hvplot.bar(\n",
    "    xlabel=\"Ticker\",\n",
    "    y=\"Total Revenue (FQ22023) ($000)\",\n",
    "    ylabel=\"Revenue\", \n",
    "    rot=45,\n",
    "    label=\"Line Plot of Revenue\"\n",
    ")"
   ]
  },
  {
   "cell_type": "markdown",
   "metadata": {},
   "source": [
    "## Step 6: Add a line_color of blue and hover_line_color of yellow to the plot."
   ]
  },
  {
   "cell_type": "code",
   "execution_count": 47,
   "metadata": {},
   "outputs": [
    {
     "data": {},
     "metadata": {},
     "output_type": "display_data"
    },
    {
     "data": {
      "application/vnd.holoviews_exec.v0+json": "",
      "text/html": [
       "<div id='2630'>\n",
       "  <div class=\"bk-root\" id=\"61561ee4-a57e-46b5-b2a1-7b8e4b7be8ee\" data-root-id=\"2630\"></div>\n",
       "</div>\n",
       "<script type=\"application/javascript\">(function(root) {\n",
       "  function embed_document(root) {\n",
       "    var docs_json = {\"764a5897-d0bb-4580-b192-a28438a8e068\":{\"defs\":[{\"extends\":null,\"module\":null,\"name\":\"ReactiveHTML1\",\"overrides\":[],\"properties\":[]},{\"extends\":null,\"module\":null,\"name\":\"FlexBox1\",\"overrides\":[],\"properties\":[{\"default\":\"flex-start\",\"kind\":null,\"name\":\"align_content\"},{\"default\":\"flex-start\",\"kind\":null,\"name\":\"align_items\"},{\"default\":\"row\",\"kind\":null,\"name\":\"flex_direction\"},{\"default\":\"wrap\",\"kind\":null,\"name\":\"flex_wrap\"},{\"default\":\"flex-start\",\"kind\":null,\"name\":\"justify_content\"}]},{\"extends\":null,\"module\":null,\"name\":\"GridStack1\",\"overrides\":[],\"properties\":[{\"default\":\"warn\",\"kind\":null,\"name\":\"mode\"},{\"default\":null,\"kind\":null,\"name\":\"ncols\"},{\"default\":null,\"kind\":null,\"name\":\"nrows\"},{\"default\":true,\"kind\":null,\"name\":\"allow_resize\"},{\"default\":true,\"kind\":null,\"name\":\"allow_drag\"},{\"default\":[],\"kind\":null,\"name\":\"state\"}]},{\"extends\":null,\"module\":null,\"name\":\"click1\",\"overrides\":[],\"properties\":[{\"default\":\"\",\"kind\":null,\"name\":\"terminal_output\"},{\"default\":\"\",\"kind\":null,\"name\":\"debug_name\"},{\"default\":0,\"kind\":null,\"name\":\"clears\"}]},{\"extends\":null,\"module\":null,\"name\":\"NotificationAreaBase1\",\"overrides\":[],\"properties\":[{\"default\":\"bottom-right\",\"kind\":null,\"name\":\"position\"},{\"default\":0,\"kind\":null,\"name\":\"_clear\"}]},{\"extends\":null,\"module\":null,\"name\":\"NotificationArea1\",\"overrides\":[],\"properties\":[{\"default\":[],\"kind\":null,\"name\":\"notifications\"},{\"default\":\"bottom-right\",\"kind\":null,\"name\":\"position\"},{\"default\":0,\"kind\":null,\"name\":\"_clear\"},{\"default\":[{\"background\":\"#ffc107\",\"icon\":{\"className\":\"fas fa-exclamation-triangle\",\"color\":\"white\",\"tagName\":\"i\"},\"type\":\"warning\"},{\"background\":\"#007bff\",\"icon\":{\"className\":\"fas fa-info-circle\",\"color\":\"white\",\"tagName\":\"i\"},\"type\":\"info\"}],\"kind\":null,\"name\":\"types\"}]},{\"extends\":null,\"module\":null,\"name\":\"Notification\",\"overrides\":[],\"properties\":[{\"default\":null,\"kind\":null,\"name\":\"background\"},{\"default\":3000,\"kind\":null,\"name\":\"duration\"},{\"default\":null,\"kind\":null,\"name\":\"icon\"},{\"default\":\"\",\"kind\":null,\"name\":\"message\"},{\"default\":null,\"kind\":null,\"name\":\"notification_type\"},{\"default\":false,\"kind\":null,\"name\":\"_destroyed\"}]},{\"extends\":null,\"module\":null,\"name\":\"TemplateActions1\",\"overrides\":[],\"properties\":[{\"default\":0,\"kind\":null,\"name\":\"open_modal\"},{\"default\":0,\"kind\":null,\"name\":\"close_modal\"}]},{\"extends\":null,\"module\":null,\"name\":\"MaterialTemplateActions1\",\"overrides\":[],\"properties\":[{\"default\":0,\"kind\":null,\"name\":\"open_modal\"},{\"default\":0,\"kind\":null,\"name\":\"close_modal\"}]}],\"roots\":{\"references\":[{\"attributes\":{\"fill_alpha\":{\"value\":0.2},\"fill_color\":{\"value\":\"#30a2da\"},\"hatch_alpha\":{\"value\":0.2},\"hatch_color\":{\"value\":\"#30a2da\"},\"line_alpha\":{\"value\":0.2},\"line_color\":{\"value\":\"blue\"},\"top\":{\"field\":\"Total_Revenue_left_parenthesis_FQ12023_right_parenthesis_left_parenthesis_000_right_parenthesis\"},\"width\":{\"value\":0.8},\"x\":{\"field\":\"Ticker\"}},\"id\":\"2669\",\"type\":\"VBar\"},{\"attributes\":{\"source\":{\"id\":\"2663\"}},\"id\":\"2671\",\"type\":\"CDSView\"},{\"attributes\":{\"coordinates\":null,\"data_source\":{\"id\":\"2663\"},\"glyph\":{\"id\":\"2666\"},\"group\":null,\"hover_glyph\":{\"id\":\"2668\"},\"muted_glyph\":{\"id\":\"2669\"},\"nonselection_glyph\":{\"id\":\"2667\"},\"selection_glyph\":{\"id\":\"2672\"},\"view\":{\"id\":\"2671\"}},\"id\":\"2670\",\"type\":\"GlyphRenderer\"},{\"attributes\":{\"bottom\":{\"value\":0},\"fill_alpha\":{\"value\":1.0},\"fill_color\":{\"value\":\"#30a2da\"},\"hatch_alpha\":{\"value\":1.0},\"hatch_color\":{\"value\":\"#30a2da\"},\"hatch_scale\":{\"value\":12.0},\"hatch_weight\":{\"value\":1.0},\"line_alpha\":{\"value\":1.0},\"line_cap\":{\"value\":\"butt\"},\"line_color\":{\"value\":\"blue\"},\"line_dash\":{\"value\":[]},\"line_dash_offset\":{\"value\":0},\"line_join\":{\"value\":\"bevel\"},\"line_width\":{\"value\":1},\"top\":{\"field\":\"Total_Revenue_left_parenthesis_FQ12023_right_parenthesis_left_parenthesis_000_right_parenthesis\"},\"width\":{\"value\":0.8},\"x\":{\"field\":\"Ticker\"}},\"id\":\"2672\",\"type\":\"VBar\"},{\"attributes\":{},\"id\":\"2641\",\"type\":\"LinearScale\"},{\"attributes\":{\"callback\":null,\"renderers\":[{\"id\":\"2670\"}],\"tags\":[\"hv_created\"],\"tooltips\":[[\"Ticker \",\"@{Ticker}\"],[\"Total Revenue (FQ12023) ($000)\",\"@{Total_Revenue_left_parenthesis_FQ12023_right_parenthesis_left_parenthesis_000_right_parenthesis}\"]]},\"id\":\"2633\",\"type\":\"HoverTool\"},{\"attributes\":{},\"id\":\"2675\",\"type\":\"CategoricalTickFormatter\"},{\"attributes\":{\"coordinates\":null,\"group\":null,\"text\":\"Line Plot of Revenue\",\"text_color\":\"black\",\"text_font_size\":\"12pt\"},\"id\":\"2635\",\"type\":\"Title\"},{\"attributes\":{\"below\":[{\"id\":\"2643\"}],\"center\":[{\"id\":\"2645\"},{\"id\":\"2649\"}],\"height\":300,\"left\":[{\"id\":\"2646\"}],\"margin\":[5,5,5,5],\"min_border_bottom\":10,\"min_border_left\":10,\"min_border_right\":10,\"min_border_top\":10,\"renderers\":[{\"id\":\"2670\"}],\"sizing_mode\":\"fixed\",\"title\":{\"id\":\"2635\"},\"toolbar\":{\"id\":\"2656\"},\"width\":700,\"x_range\":{\"id\":\"2631\"},\"x_scale\":{\"id\":\"2639\"},\"y_range\":{\"id\":\"2632\"},\"y_scale\":{\"id\":\"2641\"}},\"id\":\"2634\",\"subtype\":\"Figure\",\"type\":\"Plot\"},{\"attributes\":{\"axis_label\":\"Ticker\",\"coordinates\":null,\"formatter\":{\"id\":\"2675\"},\"group\":null,\"major_label_orientation\":0.7853981633974483,\"major_label_policy\":{\"id\":\"2676\"},\"ticker\":{\"id\":\"2644\"}},\"id\":\"2643\",\"type\":\"CategoricalAxis\"},{\"attributes\":{\"axis\":{\"id\":\"2643\"},\"coordinates\":null,\"grid_line_color\":null,\"group\":null,\"ticker\":null},\"id\":\"2645\",\"type\":\"Grid\"},{\"attributes\":{\"format\":\"%.0f\"},\"id\":\"2673\",\"type\":\"PrintfTickFormatter\"},{\"attributes\":{},\"id\":\"2651\",\"type\":\"PanTool\"},{\"attributes\":{},\"id\":\"2644\",\"type\":\"CategoricalTicker\"},{\"attributes\":{\"fill_color\":{\"value\":\"#30a2da\"},\"hatch_color\":{\"value\":\"#30a2da\"},\"line_color\":{\"value\":\"blue\"},\"top\":{\"field\":\"Total_Revenue_left_parenthesis_FQ12023_right_parenthesis_left_parenthesis_000_right_parenthesis\"},\"width\":{\"value\":0.8},\"x\":{\"field\":\"Ticker\"}},\"id\":\"2666\",\"type\":\"VBar\"},{\"attributes\":{\"axis_label\":\"Revenue\",\"coordinates\":null,\"formatter\":{\"id\":\"2673\"},\"group\":null,\"major_label_policy\":{\"id\":\"2679\"},\"ticker\":{\"id\":\"2647\"}},\"id\":\"2646\",\"type\":\"LinearAxis\"},{\"attributes\":{\"axis\":{\"id\":\"2646\"},\"coordinates\":null,\"dimension\":1,\"grid_line_color\":null,\"group\":null,\"ticker\":null},\"id\":\"2649\",\"type\":\"Grid\"},{\"attributes\":{},\"id\":\"2647\",\"type\":\"BasicTicker\"},{\"attributes\":{},\"id\":\"2652\",\"type\":\"WheelZoomTool\"},{\"attributes\":{},\"id\":\"2692\",\"type\":\"UnionRenderers\"},{\"attributes\":{},\"id\":\"2650\",\"type\":\"SaveTool\"},{\"attributes\":{\"overlay\":{\"id\":\"2655\"}},\"id\":\"2653\",\"type\":\"BoxZoomTool\"},{\"attributes\":{},\"id\":\"2654\",\"type\":\"ResetTool\"},{\"attributes\":{},\"id\":\"2639\",\"type\":\"CategoricalScale\"},{\"attributes\":{},\"id\":\"2679\",\"type\":\"AllLabels\"},{\"attributes\":{\"bottom_units\":\"screen\",\"coordinates\":null,\"fill_alpha\":0.5,\"fill_color\":\"lightgrey\",\"group\":null,\"left_units\":\"screen\",\"level\":\"overlay\",\"line_alpha\":1.0,\"line_color\":\"black\",\"line_dash\":[4,4],\"line_width\":2,\"right_units\":\"screen\",\"syncable\":false,\"top_units\":\"screen\"},\"id\":\"2655\",\"type\":\"BoxAnnotation\"},{\"attributes\":{\"end\":45527800.0,\"reset_end\":45527800.0,\"reset_start\":0.0,\"tags\":[[[\"Total Revenue (FQ12023) ($000)\",\"Total Revenue (FQ12023) ($000)\",null]]]},\"id\":\"2632\",\"type\":\"Range1d\"},{\"attributes\":{},\"id\":\"2676\",\"type\":\"AllLabels\"},{\"attributes\":{\"factors\":[\"F\",\"HD\",\"NKE\",\"HLT\",\"RL\",\"CMG\",\"GM\",\"TSLA\",\"CCL\"],\"tags\":[[[\"Ticker \",\"Ticker \",null]]]},\"id\":\"2631\",\"type\":\"FactorRange\"},{\"attributes\":{},\"id\":\"2664\",\"type\":\"Selection\"},{\"attributes\":{\"active_drag\":{\"id\":\"2651\"},\"active_scroll\":{\"id\":\"2652\"},\"tools\":[{\"id\":\"2633\"},{\"id\":\"2650\"},{\"id\":\"2651\"},{\"id\":\"2652\"},{\"id\":\"2653\"},{\"id\":\"2654\"}]},\"id\":\"2656\",\"type\":\"Toolbar\"},{\"attributes\":{\"data\":{\"Ticker\":[\"F\",\"HD\",\"NKE\",\"HLT\",\"RL\",\"CMG\",\"GM\",\"TSLA\",\"CCL\"],\"Total_Revenue_left_parenthesis_FQ12023_right_parenthesis_left_parenthesis_000_right_parenthesis\":{\"__ndarray__\":\"AAAAgL7Gg0EAAAAAg42CQQAAAADTMmhBAAAAAICQLEEAAAAAqL42QQAAAAAiEkJBAAAAQPsQg0EAAACAjj92QQAAAAAa6VBB\",\"dtype\":\"float64\",\"order\":\"little\",\"shape\":[9]}},\"selected\":{\"id\":\"2664\"},\"selection_policy\":{\"id\":\"2692\"}},\"id\":\"2663\",\"type\":\"ColumnDataSource\"},{\"attributes\":{\"children\":[{\"id\":\"2634\"}],\"height\":300,\"margin\":[0,0,0,0],\"name\":\"Row03061\",\"sizing_mode\":\"fixed\",\"tags\":[\"embedded\"],\"width\":700},\"id\":\"2630\",\"type\":\"Row\"},{\"attributes\":{\"fill_color\":{\"value\":\"#30a2da\"},\"hatch_color\":{\"value\":\"#30a2da\"},\"line_color\":{\"value\":\"yellow\"},\"top\":{\"field\":\"Total_Revenue_left_parenthesis_FQ12023_right_parenthesis_left_parenthesis_000_right_parenthesis\"},\"width\":{\"value\":0.8},\"x\":{\"field\":\"Ticker\"}},\"id\":\"2668\",\"type\":\"VBar\"},{\"attributes\":{\"fill_alpha\":{\"value\":0.1},\"fill_color\":{\"value\":\"#30a2da\"},\"hatch_alpha\":{\"value\":0.1},\"hatch_color\":{\"value\":\"#30a2da\"},\"line_alpha\":{\"value\":0.1},\"line_color\":{\"value\":\"blue\"},\"top\":{\"field\":\"Total_Revenue_left_parenthesis_FQ12023_right_parenthesis_left_parenthesis_000_right_parenthesis\"},\"width\":{\"value\":0.8},\"x\":{\"field\":\"Ticker\"}},\"id\":\"2667\",\"type\":\"VBar\"}],\"root_ids\":[\"2630\"]},\"title\":\"Bokeh Application\",\"version\":\"2.4.3\"}};\n",
       "    var render_items = [{\"docid\":\"764a5897-d0bb-4580-b192-a28438a8e068\",\"root_ids\":[\"2630\"],\"roots\":{\"2630\":\"61561ee4-a57e-46b5-b2a1-7b8e4b7be8ee\"}}];\n",
       "    root.Bokeh.embed.embed_items_notebook(docs_json, render_items);\n",
       "    for (const render_item of render_items) {\n",
       "      for (const root_id of render_item.root_ids) {\n",
       "\tconst id_el = document.getElementById(root_id)\n",
       "\tif (id_el.children.length && (id_el.children[0].className === 'bk-root')) {\n",
       "\t  const root_el = id_el.children[0]\n",
       "\t  root_el.id = root_el.id + '-rendered'\n",
       "\t}\n",
       "      }\n",
       "    }\n",
       "  }\n",
       "  if (root.Bokeh !== undefined && root.Bokeh.Panel !== undefined) {\n",
       "    embed_document(root);\n",
       "  } else {\n",
       "    var attempts = 0;\n",
       "    var timer = setInterval(function(root) {\n",
       "      if (root.Bokeh !== undefined && root.Bokeh.Panel !== undefined) {\n",
       "        clearInterval(timer);\n",
       "        embed_document(root);\n",
       "      } else if (document.readyState == \"complete\") {\n",
       "        attempts++;\n",
       "        if (attempts > 200) {\n",
       "          clearInterval(timer);\n",
       "          console.log(\"Bokeh: ERROR: Unable to run BokehJS code because BokehJS library is missing\");\n",
       "        }\n",
       "      }\n",
       "    }, 25, root)\n",
       "  }\n",
       "})(window);</script>"
      ],
      "text/plain": [
       ":Bars   [Ticker ]   (Total Revenue (FQ12023) ($000))"
      ]
     },
     "execution_count": 47,
     "metadata": {
      "application/vnd.holoviews_exec.v0+json": {
       "id": "2630"
      }
     },
     "output_type": "execute_result"
    }
   ],
   "source": [
    "# Add a line_color of blue and a hover_line_color of yellow\n",
    "secondg = stock_revenue_df.hvplot.bar(\n",
    "    xlabel=\"Ticker\",\n",
    "    y=\"Total Revenue (FQ12023) ($000)\",\n",
    "    ylabel=\"Revenue\", \n",
    "    rot=45,\n",
    "    label=\"Line Plot of Revenue\"\n",
    ").opts(\n",
    "    yformatter='%.0f', \n",
    "    line_color=\"blue\", \n",
    "    hover_line_color=\"yellow\"\n",
    ")\n",
    "secondg"
   ]
  },
  {
   "cell_type": "code",
   "execution_count": 48,
   "metadata": {},
   "outputs": [
    {
     "data": {},
     "metadata": {},
     "output_type": "display_data"
    },
    {
     "data": {
      "application/vnd.holoviews_exec.v0+json": "",
      "text/html": [
       "<div id='2741'>\n",
       "  <div class=\"bk-root\" id=\"5aea3c86-0c43-45cb-8f1f-7970f83cdd56\" data-root-id=\"2741\"></div>\n",
       "</div>\n",
       "<script type=\"application/javascript\">(function(root) {\n",
       "  function embed_document(root) {\n",
       "    var docs_json = {\"0fdc07fe-27d9-4301-998e-82b7cc081828\":{\"defs\":[{\"extends\":null,\"module\":null,\"name\":\"ReactiveHTML1\",\"overrides\":[],\"properties\":[]},{\"extends\":null,\"module\":null,\"name\":\"FlexBox1\",\"overrides\":[],\"properties\":[{\"default\":\"flex-start\",\"kind\":null,\"name\":\"align_content\"},{\"default\":\"flex-start\",\"kind\":null,\"name\":\"align_items\"},{\"default\":\"row\",\"kind\":null,\"name\":\"flex_direction\"},{\"default\":\"wrap\",\"kind\":null,\"name\":\"flex_wrap\"},{\"default\":\"flex-start\",\"kind\":null,\"name\":\"justify_content\"}]},{\"extends\":null,\"module\":null,\"name\":\"GridStack1\",\"overrides\":[],\"properties\":[{\"default\":\"warn\",\"kind\":null,\"name\":\"mode\"},{\"default\":null,\"kind\":null,\"name\":\"ncols\"},{\"default\":null,\"kind\":null,\"name\":\"nrows\"},{\"default\":true,\"kind\":null,\"name\":\"allow_resize\"},{\"default\":true,\"kind\":null,\"name\":\"allow_drag\"},{\"default\":[],\"kind\":null,\"name\":\"state\"}]},{\"extends\":null,\"module\":null,\"name\":\"click1\",\"overrides\":[],\"properties\":[{\"default\":\"\",\"kind\":null,\"name\":\"terminal_output\"},{\"default\":\"\",\"kind\":null,\"name\":\"debug_name\"},{\"default\":0,\"kind\":null,\"name\":\"clears\"}]},{\"extends\":null,\"module\":null,\"name\":\"NotificationAreaBase1\",\"overrides\":[],\"properties\":[{\"default\":\"bottom-right\",\"kind\":null,\"name\":\"position\"},{\"default\":0,\"kind\":null,\"name\":\"_clear\"}]},{\"extends\":null,\"module\":null,\"name\":\"NotificationArea1\",\"overrides\":[],\"properties\":[{\"default\":[],\"kind\":null,\"name\":\"notifications\"},{\"default\":\"bottom-right\",\"kind\":null,\"name\":\"position\"},{\"default\":0,\"kind\":null,\"name\":\"_clear\"},{\"default\":[{\"background\":\"#ffc107\",\"icon\":{\"className\":\"fas fa-exclamation-triangle\",\"color\":\"white\",\"tagName\":\"i\"},\"type\":\"warning\"},{\"background\":\"#007bff\",\"icon\":{\"className\":\"fas fa-info-circle\",\"color\":\"white\",\"tagName\":\"i\"},\"type\":\"info\"}],\"kind\":null,\"name\":\"types\"}]},{\"extends\":null,\"module\":null,\"name\":\"Notification\",\"overrides\":[],\"properties\":[{\"default\":null,\"kind\":null,\"name\":\"background\"},{\"default\":3000,\"kind\":null,\"name\":\"duration\"},{\"default\":null,\"kind\":null,\"name\":\"icon\"},{\"default\":\"\",\"kind\":null,\"name\":\"message\"},{\"default\":null,\"kind\":null,\"name\":\"notification_type\"},{\"default\":false,\"kind\":null,\"name\":\"_destroyed\"}]},{\"extends\":null,\"module\":null,\"name\":\"TemplateActions1\",\"overrides\":[],\"properties\":[{\"default\":0,\"kind\":null,\"name\":\"open_modal\"},{\"default\":0,\"kind\":null,\"name\":\"close_modal\"}]},{\"extends\":null,\"module\":null,\"name\":\"MaterialTemplateActions1\",\"overrides\":[],\"properties\":[{\"default\":0,\"kind\":null,\"name\":\"open_modal\"},{\"default\":0,\"kind\":null,\"name\":\"close_modal\"}]}],\"roots\":{\"references\":[{\"attributes\":{\"label\":{\"value\":\"Line Plot of Revenue\"},\"renderers\":[{\"id\":\"2791\"},{\"id\":\"2812\"}]},\"id\":\"2803\",\"type\":\"LegendItem\"},{\"attributes\":{\"data\":{\"Ticker\":[\"F\",\"HD\",\"NKE\",\"HLT\",\"RL\",\"CMG\",\"GM\",\"TSLA\",\"CCL\"],\"Total_Revenue_left_parenthesis_FQ12023_right_parenthesis_left_parenthesis_000_right_parenthesis\":{\"__ndarray__\":\"AAAAgL7Gg0EAAAAAg42CQQAAAADTMmhBAAAAAICQLEEAAAAAqL42QQAAAAAiEkJBAAAAQPsQg0EAAACAjj92QQAAAAAa6VBB\",\"dtype\":\"float64\",\"order\":\"little\",\"shape\":[9]}},\"selected\":{\"id\":\"2806\"},\"selection_policy\":{\"id\":\"2822\"}},\"id\":\"2805\",\"type\":\"ColumnDataSource\"},{\"attributes\":{\"children\":[{\"id\":\"2746\"}],\"height\":300,\"margin\":[0,0,0,0],\"name\":\"Row03088\",\"sizing_mode\":\"fixed\",\"tags\":[\"embedded\"],\"width\":700},\"id\":\"2741\",\"type\":\"Row\"},{\"attributes\":{},\"id\":\"2799\",\"type\":\"UnionRenderers\"},{\"attributes\":{\"bottom\":{\"value\":0},\"fill_alpha\":{\"value\":1.0},\"fill_color\":{\"value\":\"#30a2da\"},\"hatch_alpha\":{\"value\":1.0},\"hatch_color\":{\"value\":\"#30a2da\"},\"hatch_scale\":{\"value\":12.0},\"hatch_weight\":{\"value\":1.0},\"line_alpha\":{\"value\":1.0},\"line_cap\":{\"value\":\"butt\"},\"line_color\":{\"value\":\"black\"},\"line_dash\":{\"value\":[]},\"line_dash_offset\":{\"value\":0},\"line_join\":{\"value\":\"bevel\"},\"line_width\":{\"value\":1},\"top\":{\"field\":\"Total_Revenue_left_parenthesis_FQ22023_right_parenthesis_left_parenthesis_000_right_parenthesis\"},\"width\":{\"value\":0.8},\"x\":{\"field\":\"Ticker\"}},\"id\":\"2804\",\"type\":\"VBar\"},{\"attributes\":{\"factors\":[\"F\",\"HD\",\"NKE\",\"HLT\",\"RL\",\"CMG\",\"GM\",\"TSLA\",\"CCL\"],\"tags\":[[[\"Ticker \",\"Ticker \",null]]]},\"id\":\"2742\",\"type\":\"FactorRange\"},{\"attributes\":{},\"id\":\"2782\",\"type\":\"AllLabels\"},{\"attributes\":{\"below\":[{\"id\":\"2755\"}],\"center\":[{\"id\":\"2757\"},{\"id\":\"2761\"}],\"height\":300,\"left\":[{\"id\":\"2758\"}],\"margin\":[5,5,5,5],\"min_border_bottom\":10,\"min_border_left\":10,\"min_border_right\":10,\"min_border_top\":10,\"renderers\":[{\"id\":\"2791\"},{\"id\":\"2812\"}],\"right\":[{\"id\":\"2802\"}],\"sizing_mode\":\"fixed\",\"title\":{\"id\":\"2747\"},\"toolbar\":{\"id\":\"2768\"},\"width\":700,\"x_range\":{\"id\":\"2742\"},\"x_scale\":{\"id\":\"2751\"},\"y_range\":{\"id\":\"2743\"},\"y_scale\":{\"id\":\"2753\"}},\"id\":\"2746\",\"subtype\":\"Figure\",\"type\":\"Plot\"},{\"attributes\":{\"active_drag\":{\"id\":\"2763\"},\"active_scroll\":{\"id\":\"2764\"},\"tools\":[{\"id\":\"2744\"},{\"id\":\"2745\"},{\"id\":\"2762\"},{\"id\":\"2763\"},{\"id\":\"2764\"},{\"id\":\"2765\"},{\"id\":\"2766\"}]},\"id\":\"2768\",\"type\":\"Toolbar\"},{\"attributes\":{},\"id\":\"2753\",\"type\":\"LinearScale\"},{\"attributes\":{\"fill_color\":{\"value\":\"#fc4f30\"},\"hatch_color\":{\"value\":\"#fc4f30\"},\"line_color\":{\"value\":\"yellow\"},\"top\":{\"field\":\"Total_Revenue_left_parenthesis_FQ12023_right_parenthesis_left_parenthesis_000_right_parenthesis\"},\"width\":{\"value\":0.8},\"x\":{\"field\":\"Ticker\"}},\"id\":\"2810\",\"type\":\"VBar\"},{\"attributes\":{\"callback\":null,\"renderers\":[{\"id\":\"2812\"}],\"tags\":[\"hv_created\"],\"tooltips\":[[\"Ticker \",\"@{Ticker}\"],[\"Total Revenue (FQ12023) ($000)\",\"@{Total_Revenue_left_parenthesis_FQ12023_right_parenthesis_left_parenthesis_000_right_parenthesis}\"]]},\"id\":\"2745\",\"type\":\"HoverTool\"},{\"attributes\":{\"coordinates\":null,\"data_source\":{\"id\":\"2785\"},\"glyph\":{\"id\":\"2788\"},\"group\":null,\"hover_glyph\":null,\"muted_glyph\":{\"id\":\"2790\"},\"nonselection_glyph\":{\"id\":\"2789\"},\"selection_glyph\":{\"id\":\"2804\"},\"view\":{\"id\":\"2792\"}},\"id\":\"2791\",\"type\":\"GlyphRenderer\"},{\"attributes\":{},\"id\":\"2779\",\"type\":\"AllLabels\"},{\"attributes\":{\"overlay\":{\"id\":\"2767\"}},\"id\":\"2765\",\"type\":\"BoxZoomTool\"},{\"attributes\":{},\"id\":\"2786\",\"type\":\"Selection\"},{\"attributes\":{},\"id\":\"2756\",\"type\":\"CategoricalTicker\"},{\"attributes\":{\"axis\":{\"id\":\"2755\"},\"coordinates\":null,\"grid_line_color\":null,\"group\":null,\"ticker\":null},\"id\":\"2757\",\"type\":\"Grid\"},{\"attributes\":{\"source\":{\"id\":\"2785\"}},\"id\":\"2792\",\"type\":\"CDSView\"},{\"attributes\":{},\"id\":\"2762\",\"type\":\"SaveTool\"},{\"attributes\":{\"click_policy\":\"mute\",\"coordinates\":null,\"group\":null,\"items\":[{\"id\":\"2803\"}],\"location\":[0,0]},\"id\":\"2802\",\"type\":\"Legend\"},{\"attributes\":{\"axis_label\":\"Revenue\",\"coordinates\":null,\"formatter\":{\"id\":\"2776\"},\"group\":null,\"major_label_policy\":{\"id\":\"2782\"},\"ticker\":{\"id\":\"2759\"}},\"id\":\"2758\",\"type\":\"LinearAxis\"},{\"attributes\":{\"fill_alpha\":{\"value\":0.2},\"fill_color\":{\"value\":\"#30a2da\"},\"hatch_alpha\":{\"value\":0.2},\"hatch_color\":{\"value\":\"#30a2da\"},\"line_alpha\":{\"value\":0.2},\"top\":{\"field\":\"Total_Revenue_left_parenthesis_FQ22023_right_parenthesis_left_parenthesis_000_right_parenthesis\"},\"width\":{\"value\":0.8},\"x\":{\"field\":\"Ticker\"}},\"id\":\"2790\",\"type\":\"VBar\"},{\"attributes\":{\"axis\":{\"id\":\"2758\"},\"coordinates\":null,\"dimension\":1,\"grid_line_color\":null,\"group\":null,\"ticker\":null},\"id\":\"2761\",\"type\":\"Grid\"},{\"attributes\":{},\"id\":\"2759\",\"type\":\"BasicTicker\"},{\"attributes\":{\"data\":{\"Ticker\":[\"F\",\"HD\",\"NKE\",\"HLT\",\"RL\",\"CMG\",\"GM\",\"TSLA\",\"CCL\"],\"Total_Revenue_left_parenthesis_FQ22023_right_parenthesis_left_parenthesis_000_right_parenthesis\":{\"__ndarray__\":\"AAAAgIxvhUEAAAAAtOGEQQAAAAB3ZWlBAAAAAMxgREEAAAAAfBs4QQAAAIC4L0NBAAAAwEdWhUEAAACAscV3QQAAAADmu1JB\",\"dtype\":\"float64\",\"order\":\"little\",\"shape\":[9]}},\"selected\":{\"id\":\"2786\"},\"selection_policy\":{\"id\":\"2799\"}},\"id\":\"2785\",\"type\":\"ColumnDataSource\"},{\"attributes\":{},\"id\":\"2766\",\"type\":\"ResetTool\"},{\"attributes\":{\"fill_color\":{\"value\":\"#30a2da\"},\"hatch_color\":{\"value\":\"#30a2da\"},\"top\":{\"field\":\"Total_Revenue_left_parenthesis_FQ22023_right_parenthesis_left_parenthesis_000_right_parenthesis\"},\"width\":{\"value\":0.8},\"x\":{\"field\":\"Ticker\"}},\"id\":\"2788\",\"type\":\"VBar\"},{\"attributes\":{\"bottom\":{\"value\":0},\"fill_alpha\":{\"value\":1.0},\"fill_color\":{\"value\":\"#fc4f30\"},\"hatch_alpha\":{\"value\":1.0},\"hatch_color\":{\"value\":\"#fc4f30\"},\"hatch_scale\":{\"value\":12.0},\"hatch_weight\":{\"value\":1.0},\"line_alpha\":{\"value\":1.0},\"line_cap\":{\"value\":\"butt\"},\"line_color\":{\"value\":\"blue\"},\"line_dash\":{\"value\":[]},\"line_dash_offset\":{\"value\":0},\"line_join\":{\"value\":\"bevel\"},\"line_width\":{\"value\":1},\"top\":{\"field\":\"Total_Revenue_left_parenthesis_FQ12023_right_parenthesis_left_parenthesis_000_right_parenthesis\"},\"width\":{\"value\":0.8},\"x\":{\"field\":\"Ticker\"}},\"id\":\"2825\",\"type\":\"VBar\"},{\"attributes\":{\"fill_alpha\":{\"value\":0.1},\"fill_color\":{\"value\":\"#30a2da\"},\"hatch_alpha\":{\"value\":0.1},\"hatch_color\":{\"value\":\"#30a2da\"},\"line_alpha\":{\"value\":0.1},\"top\":{\"field\":\"Total_Revenue_left_parenthesis_FQ22023_right_parenthesis_left_parenthesis_000_right_parenthesis\"},\"width\":{\"value\":0.8},\"x\":{\"field\":\"Ticker\"}},\"id\":\"2789\",\"type\":\"VBar\"},{\"attributes\":{\"fill_alpha\":{\"value\":0.2},\"fill_color\":{\"value\":\"#fc4f30\"},\"hatch_alpha\":{\"value\":0.2},\"hatch_color\":{\"value\":\"#fc4f30\"},\"line_alpha\":{\"value\":0.2},\"line_color\":{\"value\":\"blue\"},\"top\":{\"field\":\"Total_Revenue_left_parenthesis_FQ12023_right_parenthesis_left_parenthesis_000_right_parenthesis\"},\"width\":{\"value\":0.8},\"x\":{\"field\":\"Ticker\"}},\"id\":\"2811\",\"type\":\"VBar\"},{\"attributes\":{},\"id\":\"2751\",\"type\":\"CategoricalScale\"},{\"attributes\":{\"bottom_units\":\"screen\",\"coordinates\":null,\"fill_alpha\":0.5,\"fill_color\":\"lightgrey\",\"group\":null,\"left_units\":\"screen\",\"level\":\"overlay\",\"line_alpha\":1.0,\"line_color\":\"black\",\"line_dash\":[4,4],\"line_width\":2,\"right_units\":\"screen\",\"syncable\":false,\"top_units\":\"screen\"},\"id\":\"2767\",\"type\":\"BoxAnnotation\"},{\"attributes\":{\"coordinates\":null,\"data_source\":{\"id\":\"2805\"},\"glyph\":{\"id\":\"2808\"},\"group\":null,\"hover_glyph\":{\"id\":\"2810\"},\"muted_glyph\":{\"id\":\"2811\"},\"nonselection_glyph\":{\"id\":\"2809\"},\"selection_glyph\":{\"id\":\"2825\"},\"view\":{\"id\":\"2813\"}},\"id\":\"2812\",\"type\":\"GlyphRenderer\"},{\"attributes\":{\"fill_color\":{\"value\":\"#fc4f30\"},\"hatch_color\":{\"value\":\"#fc4f30\"},\"line_color\":{\"value\":\"blue\"},\"top\":{\"field\":\"Total_Revenue_left_parenthesis_FQ12023_right_parenthesis_left_parenthesis_000_right_parenthesis\"},\"width\":{\"value\":0.8},\"x\":{\"field\":\"Ticker\"}},\"id\":\"2808\",\"type\":\"VBar\"},{\"attributes\":{\"format\":\"%.0f\"},\"id\":\"2776\",\"type\":\"PrintfTickFormatter\"},{\"attributes\":{\"source\":{\"id\":\"2805\"}},\"id\":\"2813\",\"type\":\"CDSView\"},{\"attributes\":{},\"id\":\"2764\",\"type\":\"WheelZoomTool\"},{\"attributes\":{\"fill_alpha\":{\"value\":0.1},\"fill_color\":{\"value\":\"#fc4f30\"},\"hatch_alpha\":{\"value\":0.1},\"hatch_color\":{\"value\":\"#fc4f30\"},\"line_alpha\":{\"value\":0.1},\"line_color\":{\"value\":\"blue\"},\"top\":{\"field\":\"Total_Revenue_left_parenthesis_FQ12023_right_parenthesis_left_parenthesis_000_right_parenthesis\"},\"width\":{\"value\":0.8},\"x\":{\"field\":\"Ticker\"}},\"id\":\"2809\",\"type\":\"VBar\"},{\"attributes\":{},\"id\":\"2806\",\"type\":\"Selection\"},{\"attributes\":{\"coordinates\":null,\"group\":null,\"text\":\"Line Plot of Revenue\",\"text_color\":\"black\",\"text_font_size\":\"12pt\"},\"id\":\"2747\",\"type\":\"Title\"},{\"attributes\":{},\"id\":\"2778\",\"type\":\"CategoricalTickFormatter\"},{\"attributes\":{\"axis_label\":\"Ticker\",\"coordinates\":null,\"formatter\":{\"id\":\"2778\"},\"group\":null,\"major_label_orientation\":0.7853981633974483,\"major_label_policy\":{\"id\":\"2779\"},\"ticker\":{\"id\":\"2756\"}},\"id\":\"2755\",\"type\":\"CategoricalAxis\"},{\"attributes\":{\"end\":49355800.0,\"reset_end\":49355800.0,\"reset_start\":0.0,\"tags\":[[[\"Total Revenue (FQ22023) ($000)\",\"Total Revenue (FQ22023) ($000)\",null]]]},\"id\":\"2743\",\"type\":\"Range1d\"},{\"attributes\":{},\"id\":\"2822\",\"type\":\"UnionRenderers\"},{\"attributes\":{},\"id\":\"2763\",\"type\":\"PanTool\"},{\"attributes\":{\"callback\":null,\"renderers\":[{\"id\":\"2791\"}],\"tags\":[\"hv_created\"],\"tooltips\":[[\"Ticker \",\"@{Ticker}\"],[\"Total Revenue (FQ22023) ($000)\",\"@{Total_Revenue_left_parenthesis_FQ22023_right_parenthesis_left_parenthesis_000_right_parenthesis}\"]]},\"id\":\"2744\",\"type\":\"HoverTool\"}],\"root_ids\":[\"2741\"]},\"title\":\"Bokeh Application\",\"version\":\"2.4.3\"}};\n",
       "    var render_items = [{\"docid\":\"0fdc07fe-27d9-4301-998e-82b7cc081828\",\"root_ids\":[\"2741\"],\"roots\":{\"2741\":\"5aea3c86-0c43-45cb-8f1f-7970f83cdd56\"}}];\n",
       "    root.Bokeh.embed.embed_items_notebook(docs_json, render_items);\n",
       "    for (const render_item of render_items) {\n",
       "      for (const root_id of render_item.root_ids) {\n",
       "\tconst id_el = document.getElementById(root_id)\n",
       "\tif (id_el.children.length && (id_el.children[0].className === 'bk-root')) {\n",
       "\t  const root_el = id_el.children[0]\n",
       "\t  root_el.id = root_el.id + '-rendered'\n",
       "\t}\n",
       "      }\n",
       "    }\n",
       "  }\n",
       "  if (root.Bokeh !== undefined && root.Bokeh.Panel !== undefined) {\n",
       "    embed_document(root);\n",
       "  } else {\n",
       "    var attempts = 0;\n",
       "    var timer = setInterval(function(root) {\n",
       "      if (root.Bokeh !== undefined && root.Bokeh.Panel !== undefined) {\n",
       "        clearInterval(timer);\n",
       "        embed_document(root);\n",
       "      } else if (document.readyState == \"complete\") {\n",
       "        attempts++;\n",
       "        if (attempts > 200) {\n",
       "          clearInterval(timer);\n",
       "          console.log(\"Bokeh: ERROR: Unable to run BokehJS code because BokehJS library is missing\");\n",
       "        }\n",
       "      }\n",
       "    }, 25, root)\n",
       "  }\n",
       "})(window);</script>"
      ],
      "text/plain": [
       ":Overlay\n",
       "   .Bars.Line_Plot_of_Revenue.I  :Bars   [Ticker ]   (Total Revenue (FQ22023) ($000))\n",
       "   .Bars.Line_Plot_of_Revenue.II :Bars   [Ticker ]   (Total Revenue (FQ12023) ($000))"
      ]
     },
     "execution_count": 48,
     "metadata": {
      "application/vnd.holoviews_exec.v0+json": {
       "id": "2741"
      }
     },
     "output_type": "execute_result"
    }
   ],
   "source": [
    "firstg*secondg"
   ]
  },
  {
   "cell_type": "markdown",
   "metadata": {},
   "source": [
    "## Step 7. Save the plot you just created to a variable so that it can eventually be utilized in an overlay plot."
   ]
  },
  {
   "cell_type": "markdown",
   "metadata": {},
   "source": [
    "## Step 8: Create a line plot that visualizes the growth in revenue for the Europe, Middle East and Africa region. Style it with the same options utilized in the first plot. However, make the line_color equal to orange. Be sure to save this plot to a variable as well."
   ]
  },
  {
   "cell_type": "code",
   "execution_count": 54,
   "metadata": {},
   "outputs": [
    {
     "data": {
      "text/html": [
       "<div>\n",
       "<style scoped>\n",
       "    .dataframe tbody tr th:only-of-type {\n",
       "        vertical-align: middle;\n",
       "    }\n",
       "\n",
       "    .dataframe tbody tr th {\n",
       "        vertical-align: top;\n",
       "    }\n",
       "\n",
       "    .dataframe thead th {\n",
       "        text-align: right;\n",
       "    }\n",
       "</style>\n",
       "<table border=\"1\" class=\"dataframe\">\n",
       "  <thead>\n",
       "    <tr style=\"text-align: right;\">\n",
       "      <th></th>\n",
       "      <th>Ticker</th>\n",
       "      <th>F</th>\n",
       "      <th>HD</th>\n",
       "      <th>NKE</th>\n",
       "      <th>HLT</th>\n",
       "      <th>RL</th>\n",
       "      <th>CMG</th>\n",
       "      <th>GM</th>\n",
       "      <th>TSLA</th>\n",
       "      <th>CCL</th>\n",
       "    </tr>\n",
       "  </thead>\n",
       "  <tbody>\n",
       "    <tr>\n",
       "      <th>0</th>\n",
       "      <td>Total Revenue (FQ22023) ($000)</td>\n",
       "      <td>44954000.0</td>\n",
       "      <td>43792000.0</td>\n",
       "      <td>13315000.0</td>\n",
       "      <td>2671000.0</td>\n",
       "      <td>1579900.0</td>\n",
       "      <td>2514801.0</td>\n",
       "      <td>44747000.0</td>\n",
       "      <td>24927000.0</td>\n",
       "      <td>4911000.0</td>\n",
       "    </tr>\n",
       "    <tr>\n",
       "      <th>1</th>\n",
       "      <td>Total Revenue (FQ12023) ($000)</td>\n",
       "      <td>41474000.0</td>\n",
       "      <td>38908000.0</td>\n",
       "      <td>12687000.0</td>\n",
       "      <td>936000.0</td>\n",
       "      <td>1490600.0</td>\n",
       "      <td>2368580.0</td>\n",
       "      <td>39985000.0</td>\n",
       "      <td>23329000.0</td>\n",
       "      <td>4433000.0</td>\n",
       "    </tr>\n",
       "    <tr>\n",
       "      <th>2</th>\n",
       "      <td>Total Revenue (FQ42022) ($000)</td>\n",
       "      <td>43999000.0</td>\n",
       "      <td>35719000.0</td>\n",
       "      <td>12234000.0</td>\n",
       "      <td>1069000.0</td>\n",
       "      <td>1522700.0</td>\n",
       "      <td>2180599.0</td>\n",
       "      <td>43108000.0</td>\n",
       "      <td>24318000.0</td>\n",
       "      <td>3839000.0</td>\n",
       "    </tr>\n",
       "    <tr>\n",
       "      <th>3</th>\n",
       "      <td>Total Revenue (FQ32022) ($000)</td>\n",
       "      <td>39392000.0</td>\n",
       "      <td>36820000.0</td>\n",
       "      <td>10871000.0</td>\n",
       "      <td>1024000.0</td>\n",
       "      <td>1815400.0</td>\n",
       "      <td>2220175.0</td>\n",
       "      <td>41888000.0</td>\n",
       "      <td>21454000.0</td>\n",
       "      <td>4306000.0</td>\n",
       "    </tr>\n",
       "    <tr>\n",
       "      <th>4</th>\n",
       "      <td>Total Revenue (FQ22022) ($000)</td>\n",
       "      <td>40190000.0</td>\n",
       "      <td>41118000.0</td>\n",
       "      <td>11357000.0</td>\n",
       "      <td>973000.0</td>\n",
       "      <td>1504100.0</td>\n",
       "      <td>2213339.0</td>\n",
       "      <td>35759000.0</td>\n",
       "      <td>16934000.0</td>\n",
       "      <td>2401000.0</td>\n",
       "    </tr>\n",
       "  </tbody>\n",
       "</table>\n",
       "</div>"
      ],
      "text/plain": [
       "                          Ticker            F          HD         NKE  \\\n",
       "0  Total Revenue (FQ22023) ($000)  44954000.0  43792000.0  13315000.0   \n",
       "1  Total Revenue (FQ12023) ($000)  41474000.0  38908000.0  12687000.0   \n",
       "2  Total Revenue (FQ42022) ($000)  43999000.0  35719000.0  12234000.0   \n",
       "3  Total Revenue (FQ32022) ($000)  39392000.0  36820000.0  10871000.0   \n",
       "4  Total Revenue (FQ22022) ($000)  40190000.0  41118000.0  11357000.0   \n",
       "\n",
       "         HLT         RL        CMG          GM        TSLA        CCL  \n",
       "0  2671000.0  1579900.0  2514801.0  44747000.0  24927000.0  4911000.0  \n",
       "1   936000.0  1490600.0  2368580.0  39985000.0  23329000.0  4433000.0  \n",
       "2  1069000.0  1522700.0  2180599.0  43108000.0  24318000.0  3839000.0  \n",
       "3  1024000.0  1815400.0  2220175.0  41888000.0  21454000.0  4306000.0  \n",
       "4   973000.0  1504100.0  2213339.0  35759000.0  16934000.0  2401000.0  "
      ]
     },
     "execution_count": 54,
     "metadata": {},
     "output_type": "execute_result"
    }
   ],
   "source": [
    "# Read in regional_revenue.csv file into a Pandas DataFrame\n",
    "stock_revenue_df2 = pd.read_csv(Path(\"cdr2.csv\"))\n",
    "\n",
    "# Review the DataFrame\n",
    "stock_revenue_df2.head()"
   ]
  },
  {
   "cell_type": "code",
   "execution_count": 55,
   "metadata": {},
   "outputs": [
    {
     "data": {
      "text/html": [
       "<div>\n",
       "<style scoped>\n",
       "    .dataframe tbody tr th:only-of-type {\n",
       "        vertical-align: middle;\n",
       "    }\n",
       "\n",
       "    .dataframe tbody tr th {\n",
       "        vertical-align: top;\n",
       "    }\n",
       "\n",
       "    .dataframe thead th {\n",
       "        text-align: right;\n",
       "    }\n",
       "</style>\n",
       "<table border=\"1\" class=\"dataframe\">\n",
       "  <thead>\n",
       "    <tr style=\"text-align: right;\">\n",
       "      <th></th>\n",
       "      <th>F</th>\n",
       "      <th>HD</th>\n",
       "      <th>NKE</th>\n",
       "      <th>HLT</th>\n",
       "      <th>RL</th>\n",
       "      <th>CMG</th>\n",
       "      <th>GM</th>\n",
       "      <th>TSLA</th>\n",
       "      <th>CCL</th>\n",
       "    </tr>\n",
       "    <tr>\n",
       "      <th>Ticker</th>\n",
       "      <th></th>\n",
       "      <th></th>\n",
       "      <th></th>\n",
       "      <th></th>\n",
       "      <th></th>\n",
       "      <th></th>\n",
       "      <th></th>\n",
       "      <th></th>\n",
       "      <th></th>\n",
       "    </tr>\n",
       "  </thead>\n",
       "  <tbody>\n",
       "    <tr>\n",
       "      <th>Total Revenue (FQ22023) ($000)</th>\n",
       "      <td>44954000.0</td>\n",
       "      <td>43792000.0</td>\n",
       "      <td>13315000.0</td>\n",
       "      <td>2671000.0</td>\n",
       "      <td>1579900.0</td>\n",
       "      <td>2514801.0</td>\n",
       "      <td>44747000.0</td>\n",
       "      <td>24927000.0</td>\n",
       "      <td>4911000.0</td>\n",
       "    </tr>\n",
       "    <tr>\n",
       "      <th>Total Revenue (FQ12023) ($000)</th>\n",
       "      <td>41474000.0</td>\n",
       "      <td>38908000.0</td>\n",
       "      <td>12687000.0</td>\n",
       "      <td>936000.0</td>\n",
       "      <td>1490600.0</td>\n",
       "      <td>2368580.0</td>\n",
       "      <td>39985000.0</td>\n",
       "      <td>23329000.0</td>\n",
       "      <td>4433000.0</td>\n",
       "    </tr>\n",
       "    <tr>\n",
       "      <th>Total Revenue (FQ42022) ($000)</th>\n",
       "      <td>43999000.0</td>\n",
       "      <td>35719000.0</td>\n",
       "      <td>12234000.0</td>\n",
       "      <td>1069000.0</td>\n",
       "      <td>1522700.0</td>\n",
       "      <td>2180599.0</td>\n",
       "      <td>43108000.0</td>\n",
       "      <td>24318000.0</td>\n",
       "      <td>3839000.0</td>\n",
       "    </tr>\n",
       "    <tr>\n",
       "      <th>Total Revenue (FQ32022) ($000)</th>\n",
       "      <td>39392000.0</td>\n",
       "      <td>36820000.0</td>\n",
       "      <td>10871000.0</td>\n",
       "      <td>1024000.0</td>\n",
       "      <td>1815400.0</td>\n",
       "      <td>2220175.0</td>\n",
       "      <td>41888000.0</td>\n",
       "      <td>21454000.0</td>\n",
       "      <td>4306000.0</td>\n",
       "    </tr>\n",
       "    <tr>\n",
       "      <th>Total Revenue (FQ22022) ($000)</th>\n",
       "      <td>40190000.0</td>\n",
       "      <td>41118000.0</td>\n",
       "      <td>11357000.0</td>\n",
       "      <td>973000.0</td>\n",
       "      <td>1504100.0</td>\n",
       "      <td>2213339.0</td>\n",
       "      <td>35759000.0</td>\n",
       "      <td>16934000.0</td>\n",
       "      <td>2401000.0</td>\n",
       "    </tr>\n",
       "  </tbody>\n",
       "</table>\n",
       "</div>"
      ],
      "text/plain": [
       "                                         F          HD         NKE        HLT  \\\n",
       "Ticker                                                                          \n",
       "Total Revenue (FQ22023) ($000)  44954000.0  43792000.0  13315000.0  2671000.0   \n",
       "Total Revenue (FQ12023) ($000)  41474000.0  38908000.0  12687000.0   936000.0   \n",
       "Total Revenue (FQ42022) ($000)  43999000.0  35719000.0  12234000.0  1069000.0   \n",
       "Total Revenue (FQ32022) ($000)  39392000.0  36820000.0  10871000.0  1024000.0   \n",
       "Total Revenue (FQ22022) ($000)  40190000.0  41118000.0  11357000.0   973000.0   \n",
       "\n",
       "                                       RL        CMG          GM        TSLA  \\\n",
       "Ticker                                                                         \n",
       "Total Revenue (FQ22023) ($000)  1579900.0  2514801.0  44747000.0  24927000.0   \n",
       "Total Revenue (FQ12023) ($000)  1490600.0  2368580.0  39985000.0  23329000.0   \n",
       "Total Revenue (FQ42022) ($000)  1522700.0  2180599.0  43108000.0  24318000.0   \n",
       "Total Revenue (FQ32022) ($000)  1815400.0  2220175.0  41888000.0  21454000.0   \n",
       "Total Revenue (FQ22022) ($000)  1504100.0  2213339.0  35759000.0  16934000.0   \n",
       "\n",
       "                                      CCL  \n",
       "Ticker                                     \n",
       "Total Revenue (FQ22023) ($000)  4911000.0  \n",
       "Total Revenue (FQ12023) ($000)  4433000.0  \n",
       "Total Revenue (FQ42022) ($000)  3839000.0  \n",
       "Total Revenue (FQ32022) ($000)  4306000.0  \n",
       "Total Revenue (FQ22022) ($000)  2401000.0  "
      ]
     },
     "execution_count": 55,
     "metadata": {},
     "output_type": "execute_result"
    }
   ],
   "source": [
    "# Set the index of the DataFrame to Years\n",
    "stock_revenue_df2 = stock_revenue_df2.set_index('Ticker ')\n",
    "stock_revenue_df2"
   ]
  },
  {
   "cell_type": "code",
   "execution_count": 58,
   "metadata": {},
   "outputs": [
    {
     "data": {},
     "metadata": {},
     "output_type": "display_data"
    },
    {
     "data": {
      "application/vnd.holoviews_exec.v0+json": "",
      "text/html": [
       "<div id='3008'>\n",
       "  <div class=\"bk-root\" id=\"d5083ba8-8e17-40b2-bece-06b8a5529cbb\" data-root-id=\"3008\"></div>\n",
       "</div>\n",
       "<script type=\"application/javascript\">(function(root) {\n",
       "  function embed_document(root) {\n",
       "    var docs_json = {\"075264a5-62dc-408a-9d09-95a0e8aaa436\":{\"defs\":[{\"extends\":null,\"module\":null,\"name\":\"ReactiveHTML1\",\"overrides\":[],\"properties\":[]},{\"extends\":null,\"module\":null,\"name\":\"FlexBox1\",\"overrides\":[],\"properties\":[{\"default\":\"flex-start\",\"kind\":null,\"name\":\"align_content\"},{\"default\":\"flex-start\",\"kind\":null,\"name\":\"align_items\"},{\"default\":\"row\",\"kind\":null,\"name\":\"flex_direction\"},{\"default\":\"wrap\",\"kind\":null,\"name\":\"flex_wrap\"},{\"default\":\"flex-start\",\"kind\":null,\"name\":\"justify_content\"}]},{\"extends\":null,\"module\":null,\"name\":\"GridStack1\",\"overrides\":[],\"properties\":[{\"default\":\"warn\",\"kind\":null,\"name\":\"mode\"},{\"default\":null,\"kind\":null,\"name\":\"ncols\"},{\"default\":null,\"kind\":null,\"name\":\"nrows\"},{\"default\":true,\"kind\":null,\"name\":\"allow_resize\"},{\"default\":true,\"kind\":null,\"name\":\"allow_drag\"},{\"default\":[],\"kind\":null,\"name\":\"state\"}]},{\"extends\":null,\"module\":null,\"name\":\"click1\",\"overrides\":[],\"properties\":[{\"default\":\"\",\"kind\":null,\"name\":\"terminal_output\"},{\"default\":\"\",\"kind\":null,\"name\":\"debug_name\"},{\"default\":0,\"kind\":null,\"name\":\"clears\"}]},{\"extends\":null,\"module\":null,\"name\":\"NotificationAreaBase1\",\"overrides\":[],\"properties\":[{\"default\":\"bottom-right\",\"kind\":null,\"name\":\"position\"},{\"default\":0,\"kind\":null,\"name\":\"_clear\"}]},{\"extends\":null,\"module\":null,\"name\":\"NotificationArea1\",\"overrides\":[],\"properties\":[{\"default\":[],\"kind\":null,\"name\":\"notifications\"},{\"default\":\"bottom-right\",\"kind\":null,\"name\":\"position\"},{\"default\":0,\"kind\":null,\"name\":\"_clear\"},{\"default\":[{\"background\":\"#ffc107\",\"icon\":{\"className\":\"fas fa-exclamation-triangle\",\"color\":\"white\",\"tagName\":\"i\"},\"type\":\"warning\"},{\"background\":\"#007bff\",\"icon\":{\"className\":\"fas fa-info-circle\",\"color\":\"white\",\"tagName\":\"i\"},\"type\":\"info\"}],\"kind\":null,\"name\":\"types\"}]},{\"extends\":null,\"module\":null,\"name\":\"Notification\",\"overrides\":[],\"properties\":[{\"default\":null,\"kind\":null,\"name\":\"background\"},{\"default\":3000,\"kind\":null,\"name\":\"duration\"},{\"default\":null,\"kind\":null,\"name\":\"icon\"},{\"default\":\"\",\"kind\":null,\"name\":\"message\"},{\"default\":null,\"kind\":null,\"name\":\"notification_type\"},{\"default\":false,\"kind\":null,\"name\":\"_destroyed\"}]},{\"extends\":null,\"module\":null,\"name\":\"TemplateActions1\",\"overrides\":[],\"properties\":[{\"default\":0,\"kind\":null,\"name\":\"open_modal\"},{\"default\":0,\"kind\":null,\"name\":\"close_modal\"}]},{\"extends\":null,\"module\":null,\"name\":\"MaterialTemplateActions1\",\"overrides\":[],\"properties\":[{\"default\":0,\"kind\":null,\"name\":\"open_modal\"},{\"default\":0,\"kind\":null,\"name\":\"close_modal\"}]}],\"roots\":{\"references\":[{\"attributes\":{\"overlay\":{\"id\":\"3033\"}},\"id\":\"3031\",\"type\":\"BoxZoomTool\"},{\"attributes\":{},\"id\":\"3032\",\"type\":\"ResetTool\"},{\"attributes\":{\"below\":[{\"id\":\"3021\"}],\"center\":[{\"id\":\"3023\"},{\"id\":\"3027\"}],\"height\":300,\"left\":[{\"id\":\"3024\"}],\"margin\":[5,5,5,5],\"min_border_bottom\":10,\"min_border_left\":10,\"min_border_right\":10,\"min_border_top\":10,\"renderers\":[{\"id\":\"3048\"}],\"sizing_mode\":\"fixed\",\"title\":{\"id\":\"3013\"},\"toolbar\":{\"id\":\"3034\"},\"width\":700,\"x_range\":{\"id\":\"3009\"},\"x_scale\":{\"id\":\"3017\"},\"y_range\":{\"id\":\"3010\"},\"y_scale\":{\"id\":\"3019\"}},\"id\":\"3012\",\"subtype\":\"Figure\",\"type\":\"Plot\"},{\"attributes\":{},\"id\":\"3057\",\"type\":\"AllLabels\"},{\"attributes\":{\"bottom_units\":\"screen\",\"coordinates\":null,\"fill_alpha\":0.5,\"fill_color\":\"lightgrey\",\"group\":null,\"left_units\":\"screen\",\"level\":\"overlay\",\"line_alpha\":1.0,\"line_color\":\"black\",\"line_dash\":[4,4],\"line_width\":2,\"right_units\":\"screen\",\"syncable\":false,\"top_units\":\"screen\"},\"id\":\"3033\",\"type\":\"BoxAnnotation\"},{\"attributes\":{\"factors\":[\"Total Revenue (FQ22023) ($000)\",\"Total Revenue (FQ12023) ($000)\",\"Total Revenue (FQ42022) ($000)\",\"Total Revenue (FQ32022) ($000)\",\"Total Revenue (FQ22022) ($000)\"],\"tags\":[[[\"Ticker \",\"Ticker \",null]]]},\"id\":\"3009\",\"type\":\"FactorRange\"},{\"attributes\":{\"data\":{\"F\":{\"__ndarray__\":\"AAAAgIxvhUEAAACAvsaDQQAAAMD4+oRBAAAAAJjIgkEAAACAASqDQQ==\",\"dtype\":\"float64\",\"order\":\"little\",\"shape\":[5]},\"Ticker\":[\"Total Revenue (FQ22023) ($000)\",\"Total Revenue (FQ12023) ($000)\",\"Total Revenue (FQ42022) ($000)\",\"Total Revenue (FQ32022) ($000)\",\"Total Revenue (FQ22022) ($000)\"],\"Ticker \":[\"Total Revenue (FQ22023) ($000)\",\"Total Revenue (FQ12023) ($000)\",\"Total Revenue (FQ42022) ($000)\",\"Total Revenue (FQ32022) ($000)\",\"Total Revenue (FQ22022) ($000)\"]},\"selected\":{\"id\":\"3042\"},\"selection_policy\":{\"id\":\"3070\"}},\"id\":\"3041\",\"type\":\"ColumnDataSource\"},{\"attributes\":{\"source\":{\"id\":\"3041\"}},\"id\":\"3049\",\"type\":\"CDSView\"},{\"attributes\":{\"line_alpha\":0.1,\"line_color\":\"orange\",\"line_width\":2,\"x\":{\"field\":\"Ticker \"},\"y\":{\"field\":\"F\"}},\"id\":\"3045\",\"type\":\"Line\"},{\"attributes\":{\"children\":[{\"id\":\"3012\"}],\"height\":300,\"margin\":[0,0,0,0],\"name\":\"Row03565\",\"sizing_mode\":\"fixed\",\"tags\":[\"embedded\"],\"width\":700},\"id\":\"3008\",\"type\":\"Row\"},{\"attributes\":{\"active_drag\":{\"id\":\"3029\"},\"active_scroll\":{\"id\":\"3030\"},\"tools\":[{\"id\":\"3011\"},{\"id\":\"3028\"},{\"id\":\"3029\"},{\"id\":\"3030\"},{\"id\":\"3031\"},{\"id\":\"3032\"}]},\"id\":\"3034\",\"type\":\"Toolbar\"},{\"attributes\":{},\"id\":\"3017\",\"type\":\"CategoricalScale\"},{\"attributes\":{\"line_color\":\"yellow\",\"line_width\":2,\"x\":{\"field\":\"Ticker \"},\"y\":{\"field\":\"F\"}},\"id\":\"3046\",\"type\":\"Line\"},{\"attributes\":{},\"id\":\"3019\",\"type\":\"LinearScale\"},{\"attributes\":{},\"id\":\"3042\",\"type\":\"Selection\"},{\"attributes\":{\"line_color\":\"orange\",\"line_width\":2,\"x\":{\"field\":\"Ticker \"},\"y\":{\"field\":\"F\"}},\"id\":\"3044\",\"type\":\"Line\"},{\"attributes\":{\"coordinates\":null,\"data_source\":{\"id\":\"3041\"},\"glyph\":{\"id\":\"3044\"},\"group\":null,\"hover_glyph\":{\"id\":\"3046\"},\"muted_glyph\":{\"id\":\"3047\"},\"nonselection_glyph\":{\"id\":\"3045\"},\"selection_glyph\":{\"id\":\"3050\"},\"view\":{\"id\":\"3049\"}},\"id\":\"3048\",\"type\":\"GlyphRenderer\"},{\"attributes\":{\"line_alpha\":0.2,\"line_color\":\"orange\",\"line_width\":2,\"x\":{\"field\":\"Ticker \"},\"y\":{\"field\":\"F\"}},\"id\":\"3047\",\"type\":\"Line\"},{\"attributes\":{\"callback\":null,\"renderers\":[{\"id\":\"3048\"}],\"tags\":[\"hv_created\"],\"tooltips\":[[\"Ticker \",\"@{Ticker}\"],[\"F\",\"@{F}\"]]},\"id\":\"3011\",\"type\":\"HoverTool\"},{\"attributes\":{\"end\":45510200.0,\"reset_end\":45510200.0,\"reset_start\":38835800.0,\"start\":38835800.0,\"tags\":[[[\"F\",\"F\",null]]]},\"id\":\"3010\",\"type\":\"Range1d\"},{\"attributes\":{},\"id\":\"3070\",\"type\":\"UnionRenderers\"},{\"attributes\":{\"line_color\":\"orange\",\"line_width\":2,\"x\":{\"field\":\"Ticker \"},\"y\":{\"field\":\"F\"}},\"id\":\"3050\",\"type\":\"Line\"},{\"attributes\":{\"format\":\"%.0f\"},\"id\":\"3051\",\"type\":\"PrintfTickFormatter\"},{\"attributes\":{\"coordinates\":null,\"group\":null,\"text\":\"Ford's Revenue\",\"text_color\":\"black\",\"text_font_size\":\"12pt\"},\"id\":\"3013\",\"type\":\"Title\"},{\"attributes\":{\"axis\":{\"id\":\"3021\"},\"coordinates\":null,\"grid_line_color\":null,\"group\":null,\"ticker\":null},\"id\":\"3023\",\"type\":\"Grid\"},{\"attributes\":{\"axis_label\":\"Revenue\",\"coordinates\":null,\"formatter\":{\"id\":\"3053\"},\"group\":null,\"major_label_orientation\":0.7853981633974483,\"major_label_policy\":{\"id\":\"3054\"},\"ticker\":{\"id\":\"3022\"}},\"id\":\"3021\",\"type\":\"CategoricalAxis\"},{\"attributes\":{},\"id\":\"3029\",\"type\":\"PanTool\"},{\"attributes\":{},\"id\":\"3022\",\"type\":\"CategoricalTicker\"},{\"attributes\":{},\"id\":\"3053\",\"type\":\"CategoricalTickFormatter\"},{\"attributes\":{\"axis_label\":\"F\",\"coordinates\":null,\"formatter\":{\"id\":\"3051\"},\"group\":null,\"major_label_policy\":{\"id\":\"3057\"},\"ticker\":{\"id\":\"3025\"}},\"id\":\"3024\",\"type\":\"LinearAxis\"},{\"attributes\":{\"axis\":{\"id\":\"3024\"},\"coordinates\":null,\"dimension\":1,\"grid_line_color\":null,\"group\":null,\"ticker\":null},\"id\":\"3027\",\"type\":\"Grid\"},{\"attributes\":{},\"id\":\"3054\",\"type\":\"AllLabels\"},{\"attributes\":{},\"id\":\"3025\",\"type\":\"BasicTicker\"},{\"attributes\":{},\"id\":\"3030\",\"type\":\"WheelZoomTool\"},{\"attributes\":{},\"id\":\"3028\",\"type\":\"SaveTool\"}],\"root_ids\":[\"3008\"]},\"title\":\"Bokeh Application\",\"version\":\"2.4.3\"}};\n",
       "    var render_items = [{\"docid\":\"075264a5-62dc-408a-9d09-95a0e8aaa436\",\"root_ids\":[\"3008\"],\"roots\":{\"3008\":\"d5083ba8-8e17-40b2-bece-06b8a5529cbb\"}}];\n",
       "    root.Bokeh.embed.embed_items_notebook(docs_json, render_items);\n",
       "    for (const render_item of render_items) {\n",
       "      for (const root_id of render_item.root_ids) {\n",
       "\tconst id_el = document.getElementById(root_id)\n",
       "\tif (id_el.children.length && (id_el.children[0].className === 'bk-root')) {\n",
       "\t  const root_el = id_el.children[0]\n",
       "\t  root_el.id = root_el.id + '-rendered'\n",
       "\t}\n",
       "      }\n",
       "    }\n",
       "  }\n",
       "  if (root.Bokeh !== undefined && root.Bokeh.Panel !== undefined) {\n",
       "    embed_document(root);\n",
       "  } else {\n",
       "    var attempts = 0;\n",
       "    var timer = setInterval(function(root) {\n",
       "      if (root.Bokeh !== undefined && root.Bokeh.Panel !== undefined) {\n",
       "        clearInterval(timer);\n",
       "        embed_document(root);\n",
       "      } else if (document.readyState == \"complete\") {\n",
       "        attempts++;\n",
       "        if (attempts > 200) {\n",
       "          clearInterval(timer);\n",
       "          console.log(\"Bokeh: ERROR: Unable to run BokehJS code because BokehJS library is missing\");\n",
       "        }\n",
       "      }\n",
       "    }, 25, root)\n",
       "  }\n",
       "})(window);</script>"
      ],
      "text/plain": [
       ":Curve   [Ticker ]   (F)"
      ]
     },
     "execution_count": 58,
     "metadata": {
      "application/vnd.holoviews_exec.v0+json": {
       "id": "3008"
      }
     },
     "output_type": "execute_result"
    }
   ],
   "source": [
    "# Create a styled line plot for the Europe, Middle East Africa region. \n",
    "# Make the line_color orange and be sure to set the plot equal to a variable. \n",
    "F_plot = stock_revenue_df2.hvplot(\n",
    "    xlabel=\"Revenue\",\n",
    "    y=\"F\",\n",
    "    ylabel=\"F\", \n",
    "    rot=45,\n",
    "    label=\"Ford's Revenue\").opts(\n",
    "    yformatter='%.0f', \n",
    "    line_color=\"orange\", \n",
    "    hover_line_color=\"yellow\"\n",
    ")  \n",
    "\n",
    "# Show the plot\n",
    "F_plot"
   ]
  },
  {
   "cell_type": "code",
   "execution_count": 62,
   "metadata": {},
   "outputs": [
    {
     "data": {},
     "metadata": {},
     "output_type": "display_data"
    },
    {
     "data": {
      "application/vnd.holoviews_exec.v0+json": "",
      "text/html": [
       "<div id='3499'>\n",
       "  <div class=\"bk-root\" id=\"762cc752-e881-4a66-a75f-2fa7b3b488df\" data-root-id=\"3499\"></div>\n",
       "</div>\n",
       "<script type=\"application/javascript\">(function(root) {\n",
       "  function embed_document(root) {\n",
       "    var docs_json = {\"69a2f00a-b152-4a0f-b1e5-de4ca1895775\":{\"defs\":[{\"extends\":null,\"module\":null,\"name\":\"ReactiveHTML1\",\"overrides\":[],\"properties\":[]},{\"extends\":null,\"module\":null,\"name\":\"FlexBox1\",\"overrides\":[],\"properties\":[{\"default\":\"flex-start\",\"kind\":null,\"name\":\"align_content\"},{\"default\":\"flex-start\",\"kind\":null,\"name\":\"align_items\"},{\"default\":\"row\",\"kind\":null,\"name\":\"flex_direction\"},{\"default\":\"wrap\",\"kind\":null,\"name\":\"flex_wrap\"},{\"default\":\"flex-start\",\"kind\":null,\"name\":\"justify_content\"}]},{\"extends\":null,\"module\":null,\"name\":\"GridStack1\",\"overrides\":[],\"properties\":[{\"default\":\"warn\",\"kind\":null,\"name\":\"mode\"},{\"default\":null,\"kind\":null,\"name\":\"ncols\"},{\"default\":null,\"kind\":null,\"name\":\"nrows\"},{\"default\":true,\"kind\":null,\"name\":\"allow_resize\"},{\"default\":true,\"kind\":null,\"name\":\"allow_drag\"},{\"default\":[],\"kind\":null,\"name\":\"state\"}]},{\"extends\":null,\"module\":null,\"name\":\"click1\",\"overrides\":[],\"properties\":[{\"default\":\"\",\"kind\":null,\"name\":\"terminal_output\"},{\"default\":\"\",\"kind\":null,\"name\":\"debug_name\"},{\"default\":0,\"kind\":null,\"name\":\"clears\"}]},{\"extends\":null,\"module\":null,\"name\":\"NotificationAreaBase1\",\"overrides\":[],\"properties\":[{\"default\":\"bottom-right\",\"kind\":null,\"name\":\"position\"},{\"default\":0,\"kind\":null,\"name\":\"_clear\"}]},{\"extends\":null,\"module\":null,\"name\":\"NotificationArea1\",\"overrides\":[],\"properties\":[{\"default\":[],\"kind\":null,\"name\":\"notifications\"},{\"default\":\"bottom-right\",\"kind\":null,\"name\":\"position\"},{\"default\":0,\"kind\":null,\"name\":\"_clear\"},{\"default\":[{\"background\":\"#ffc107\",\"icon\":{\"className\":\"fas fa-exclamation-triangle\",\"color\":\"white\",\"tagName\":\"i\"},\"type\":\"warning\"},{\"background\":\"#007bff\",\"icon\":{\"className\":\"fas fa-info-circle\",\"color\":\"white\",\"tagName\":\"i\"},\"type\":\"info\"}],\"kind\":null,\"name\":\"types\"}]},{\"extends\":null,\"module\":null,\"name\":\"Notification\",\"overrides\":[],\"properties\":[{\"default\":null,\"kind\":null,\"name\":\"background\"},{\"default\":3000,\"kind\":null,\"name\":\"duration\"},{\"default\":null,\"kind\":null,\"name\":\"icon\"},{\"default\":\"\",\"kind\":null,\"name\":\"message\"},{\"default\":null,\"kind\":null,\"name\":\"notification_type\"},{\"default\":false,\"kind\":null,\"name\":\"_destroyed\"}]},{\"extends\":null,\"module\":null,\"name\":\"TemplateActions1\",\"overrides\":[],\"properties\":[{\"default\":0,\"kind\":null,\"name\":\"open_modal\"},{\"default\":0,\"kind\":null,\"name\":\"close_modal\"}]},{\"extends\":null,\"module\":null,\"name\":\"MaterialTemplateActions1\",\"overrides\":[],\"properties\":[{\"default\":0,\"kind\":null,\"name\":\"open_modal\"},{\"default\":0,\"kind\":null,\"name\":\"close_modal\"}]}],\"roots\":{\"references\":[{\"attributes\":{},\"id\":\"3513\",\"type\":\"CategoricalTicker\"},{\"attributes\":{\"line_color\":\"blue\",\"line_width\":2,\"x\":{\"field\":\"Ticker \"},\"y\":{\"field\":\"TSLA\"}},\"id\":\"3541\",\"type\":\"Line\"},{\"attributes\":{\"axis_label\":\"TSLA\",\"coordinates\":null,\"formatter\":{\"id\":\"3542\"},\"group\":null,\"major_label_policy\":{\"id\":\"3548\"},\"ticker\":{\"id\":\"3516\"}},\"id\":\"3515\",\"type\":\"LinearAxis\"},{\"attributes\":{\"coordinates\":null,\"data_source\":{\"id\":\"3532\"},\"glyph\":{\"id\":\"3535\"},\"group\":null,\"hover_glyph\":{\"id\":\"3537\"},\"muted_glyph\":{\"id\":\"3538\"},\"nonselection_glyph\":{\"id\":\"3536\"},\"selection_glyph\":{\"id\":\"3541\"},\"view\":{\"id\":\"3540\"}},\"id\":\"3539\",\"type\":\"GlyphRenderer\"},{\"attributes\":{\"axis\":{\"id\":\"3515\"},\"coordinates\":null,\"dimension\":1,\"grid_line_color\":null,\"group\":null,\"ticker\":null},\"id\":\"3518\",\"type\":\"Grid\"},{\"attributes\":{},\"id\":\"3516\",\"type\":\"BasicTicker\"},{\"attributes\":{},\"id\":\"3545\",\"type\":\"AllLabels\"},{\"attributes\":{},\"id\":\"3521\",\"type\":\"WheelZoomTool\"},{\"attributes\":{\"line_alpha\":0.2,\"line_color\":\"blue\",\"line_width\":2,\"x\":{\"field\":\"Ticker \"},\"y\":{\"field\":\"TSLA\"}},\"id\":\"3538\",\"type\":\"Line\"},{\"attributes\":{\"format\":\"%.0f\"},\"id\":\"3542\",\"type\":\"PrintfTickFormatter\"},{\"attributes\":{},\"id\":\"3519\",\"type\":\"SaveTool\"},{\"attributes\":{\"line_alpha\":0.1,\"line_color\":\"blue\",\"line_width\":2,\"x\":{\"field\":\"Ticker \"},\"y\":{\"field\":\"TSLA\"}},\"id\":\"3536\",\"type\":\"Line\"},{\"attributes\":{\"overlay\":{\"id\":\"3524\"}},\"id\":\"3522\",\"type\":\"BoxZoomTool\"},{\"attributes\":{},\"id\":\"3523\",\"type\":\"ResetTool\"},{\"attributes\":{},\"id\":\"3533\",\"type\":\"Selection\"},{\"attributes\":{},\"id\":\"3548\",\"type\":\"AllLabels\"},{\"attributes\":{\"bottom_units\":\"screen\",\"coordinates\":null,\"fill_alpha\":0.5,\"fill_color\":\"lightgrey\",\"group\":null,\"left_units\":\"screen\",\"level\":\"overlay\",\"line_alpha\":1.0,\"line_color\":\"black\",\"line_dash\":[4,4],\"line_width\":2,\"right_units\":\"screen\",\"syncable\":false,\"top_units\":\"screen\"},\"id\":\"3524\",\"type\":\"BoxAnnotation\"},{\"attributes\":{\"factors\":[\"Total Revenue (FQ22023) ($000)\",\"Total Revenue (FQ12023) ($000)\",\"Total Revenue (FQ42022) ($000)\",\"Total Revenue (FQ32022) ($000)\",\"Total Revenue (FQ22022) ($000)\"],\"tags\":[[[\"Ticker \",\"Ticker \",null]]]},\"id\":\"3500\",\"type\":\"FactorRange\"},{\"attributes\":{},\"id\":\"3508\",\"type\":\"CategoricalScale\"},{\"attributes\":{\"line_color\":\"blue\",\"line_width\":2,\"x\":{\"field\":\"Ticker \"},\"y\":{\"field\":\"TSLA\"}},\"id\":\"3535\",\"type\":\"Line\"},{\"attributes\":{\"data\":{\"TSLA\":{\"__ndarray__\":\"AAAAgLHFd0EAAACAjj92QQAAAAADMXdBAAAAAMt1dEEAAAAARyZwQQ==\",\"dtype\":\"float64\",\"order\":\"little\",\"shape\":[5]},\"Ticker\":[\"Total Revenue (FQ22023) ($000)\",\"Total Revenue (FQ12023) ($000)\",\"Total Revenue (FQ42022) ($000)\",\"Total Revenue (FQ32022) ($000)\",\"Total Revenue (FQ22022) ($000)\"],\"Ticker \":[\"Total Revenue (FQ22023) ($000)\",\"Total Revenue (FQ12023) ($000)\",\"Total Revenue (FQ42022) ($000)\",\"Total Revenue (FQ32022) ($000)\",\"Total Revenue (FQ22022) ($000)\"]},\"selected\":{\"id\":\"3533\"},\"selection_policy\":{\"id\":\"3561\"}},\"id\":\"3532\",\"type\":\"ColumnDataSource\"},{\"attributes\":{\"below\":[{\"id\":\"3512\"}],\"center\":[{\"id\":\"3514\"},{\"id\":\"3518\"}],\"height\":300,\"left\":[{\"id\":\"3515\"}],\"margin\":[5,5,5,5],\"min_border_bottom\":10,\"min_border_left\":10,\"min_border_right\":10,\"min_border_top\":10,\"renderers\":[{\"id\":\"3539\"}],\"sizing_mode\":\"fixed\",\"title\":{\"id\":\"3504\"},\"toolbar\":{\"id\":\"3525\"},\"width\":700,\"x_range\":{\"id\":\"3500\"},\"x_scale\":{\"id\":\"3508\"},\"y_range\":{\"id\":\"3501\"},\"y_scale\":{\"id\":\"3510\"}},\"id\":\"3503\",\"subtype\":\"Figure\",\"type\":\"Plot\"},{\"attributes\":{},\"id\":\"3544\",\"type\":\"CategoricalTickFormatter\"},{\"attributes\":{\"children\":[{\"id\":\"3503\"}],\"height\":300,\"margin\":[0,0,0,0],\"name\":\"Row04023\",\"sizing_mode\":\"fixed\",\"tags\":[\"embedded\"],\"width\":700},\"id\":\"3499\",\"type\":\"Row\"},{\"attributes\":{\"line_color\":\"red\",\"line_width\":2,\"x\":{\"field\":\"Ticker \"},\"y\":{\"field\":\"TSLA\"}},\"id\":\"3537\",\"type\":\"Line\"},{\"attributes\":{},\"id\":\"3510\",\"type\":\"LinearScale\"},{\"attributes\":{\"callback\":null,\"renderers\":[{\"id\":\"3539\"}],\"tags\":[\"hv_created\"],\"tooltips\":[[\"Ticker \",\"@{Ticker}\"],[\"TSLA\",\"@{TSLA}\"]]},\"id\":\"3502\",\"type\":\"HoverTool\"},{\"attributes\":{\"active_drag\":{\"id\":\"3520\"},\"active_scroll\":{\"id\":\"3521\"},\"tools\":[{\"id\":\"3502\"},{\"id\":\"3519\"},{\"id\":\"3520\"},{\"id\":\"3521\"},{\"id\":\"3522\"},{\"id\":\"3523\"}]},\"id\":\"3525\",\"type\":\"Toolbar\"},{\"attributes\":{\"end\":25726300.0,\"reset_end\":25726300.0,\"reset_start\":16134700.0,\"start\":16134700.0,\"tags\":[[[\"TSLA\",\"TSLA\",null]]]},\"id\":\"3501\",\"type\":\"Range1d\"},{\"attributes\":{\"source\":{\"id\":\"3532\"}},\"id\":\"3540\",\"type\":\"CDSView\"},{\"attributes\":{\"coordinates\":null,\"group\":null,\"text\":\"TSLA's Revenue\",\"text_color\":\"black\",\"text_font_size\":\"12pt\"},\"id\":\"3504\",\"type\":\"Title\"},{\"attributes\":{},\"id\":\"3561\",\"type\":\"UnionRenderers\"},{\"attributes\":{\"axis\":{\"id\":\"3512\"},\"coordinates\":null,\"grid_line_color\":null,\"group\":null,\"ticker\":null},\"id\":\"3514\",\"type\":\"Grid\"},{\"attributes\":{\"axis_label\":\"Revenue\",\"coordinates\":null,\"formatter\":{\"id\":\"3544\"},\"group\":null,\"major_label_orientation\":0.7853981633974483,\"major_label_policy\":{\"id\":\"3545\"},\"ticker\":{\"id\":\"3513\"}},\"id\":\"3512\",\"type\":\"CategoricalAxis\"},{\"attributes\":{},\"id\":\"3520\",\"type\":\"PanTool\"}],\"root_ids\":[\"3499\"]},\"title\":\"Bokeh Application\",\"version\":\"2.4.3\"}};\n",
       "    var render_items = [{\"docid\":\"69a2f00a-b152-4a0f-b1e5-de4ca1895775\",\"root_ids\":[\"3499\"],\"roots\":{\"3499\":\"762cc752-e881-4a66-a75f-2fa7b3b488df\"}}];\n",
       "    root.Bokeh.embed.embed_items_notebook(docs_json, render_items);\n",
       "    for (const render_item of render_items) {\n",
       "      for (const root_id of render_item.root_ids) {\n",
       "\tconst id_el = document.getElementById(root_id)\n",
       "\tif (id_el.children.length && (id_el.children[0].className === 'bk-root')) {\n",
       "\t  const root_el = id_el.children[0]\n",
       "\t  root_el.id = root_el.id + '-rendered'\n",
       "\t}\n",
       "      }\n",
       "    }\n",
       "  }\n",
       "  if (root.Bokeh !== undefined && root.Bokeh.Panel !== undefined) {\n",
       "    embed_document(root);\n",
       "  } else {\n",
       "    var attempts = 0;\n",
       "    var timer = setInterval(function(root) {\n",
       "      if (root.Bokeh !== undefined && root.Bokeh.Panel !== undefined) {\n",
       "        clearInterval(timer);\n",
       "        embed_document(root);\n",
       "      } else if (document.readyState == \"complete\") {\n",
       "        attempts++;\n",
       "        if (attempts > 200) {\n",
       "          clearInterval(timer);\n",
       "          console.log(\"Bokeh: ERROR: Unable to run BokehJS code because BokehJS library is missing\");\n",
       "        }\n",
       "      }\n",
       "    }, 25, root)\n",
       "  }\n",
       "})(window);</script>"
      ],
      "text/plain": [
       ":Curve   [Ticker ]   (TSLA)"
      ]
     },
     "execution_count": 62,
     "metadata": {
      "application/vnd.holoviews_exec.v0+json": {
       "id": "3499"
      }
     },
     "output_type": "execute_result"
    }
   ],
   "source": [
    "# Make the line_color orange and be sure to set the plot equal to a variable. \n",
    "tsla_plot = stock_revenue_df2.hvplot(\n",
    "    xlabel=\"Revenue\",\n",
    "    y=\"TSLA\",\n",
    "    ylabel=\"TSLA\", \n",
    "    rot=45,\n",
    "    label=\"TSLA's Revenue\").opts(\n",
    "    yformatter='%.0f', \n",
    "    line_color=\"blue\", \n",
    "    hover_line_color=\"red\"\n",
    ")  \n",
    "\n",
    "# Show the plot\n",
    "tsla_plot"
   ]
  },
  {
   "cell_type": "markdown",
   "metadata": {},
   "source": [
    "## Step 9: Create an overlay plot for the \"United States and Canada\" and the \"Europe, Middle East and Africa\" regions."
   ]
  },
  {
   "cell_type": "code",
   "execution_count": 63,
   "metadata": {},
   "outputs": [
    {
     "data": {},
     "metadata": {},
     "output_type": "display_data"
    },
    {
     "data": {
      "application/vnd.holoviews_exec.v0+json": "",
      "text/html": [
       "<div id='3610'>\n",
       "  <div class=\"bk-root\" id=\"91e3f0bc-6709-4314-b4e9-cb1f0d3c21ce\" data-root-id=\"3610\"></div>\n",
       "</div>\n",
       "<script type=\"application/javascript\">(function(root) {\n",
       "  function embed_document(root) {\n",
       "    var docs_json = {\"af414c61-6798-400f-9406-618bb68b2fe2\":{\"defs\":[{\"extends\":null,\"module\":null,\"name\":\"ReactiveHTML1\",\"overrides\":[],\"properties\":[]},{\"extends\":null,\"module\":null,\"name\":\"FlexBox1\",\"overrides\":[],\"properties\":[{\"default\":\"flex-start\",\"kind\":null,\"name\":\"align_content\"},{\"default\":\"flex-start\",\"kind\":null,\"name\":\"align_items\"},{\"default\":\"row\",\"kind\":null,\"name\":\"flex_direction\"},{\"default\":\"wrap\",\"kind\":null,\"name\":\"flex_wrap\"},{\"default\":\"flex-start\",\"kind\":null,\"name\":\"justify_content\"}]},{\"extends\":null,\"module\":null,\"name\":\"GridStack1\",\"overrides\":[],\"properties\":[{\"default\":\"warn\",\"kind\":null,\"name\":\"mode\"},{\"default\":null,\"kind\":null,\"name\":\"ncols\"},{\"default\":null,\"kind\":null,\"name\":\"nrows\"},{\"default\":true,\"kind\":null,\"name\":\"allow_resize\"},{\"default\":true,\"kind\":null,\"name\":\"allow_drag\"},{\"default\":[],\"kind\":null,\"name\":\"state\"}]},{\"extends\":null,\"module\":null,\"name\":\"click1\",\"overrides\":[],\"properties\":[{\"default\":\"\",\"kind\":null,\"name\":\"terminal_output\"},{\"default\":\"\",\"kind\":null,\"name\":\"debug_name\"},{\"default\":0,\"kind\":null,\"name\":\"clears\"}]},{\"extends\":null,\"module\":null,\"name\":\"NotificationAreaBase1\",\"overrides\":[],\"properties\":[{\"default\":\"bottom-right\",\"kind\":null,\"name\":\"position\"},{\"default\":0,\"kind\":null,\"name\":\"_clear\"}]},{\"extends\":null,\"module\":null,\"name\":\"NotificationArea1\",\"overrides\":[],\"properties\":[{\"default\":[],\"kind\":null,\"name\":\"notifications\"},{\"default\":\"bottom-right\",\"kind\":null,\"name\":\"position\"},{\"default\":0,\"kind\":null,\"name\":\"_clear\"},{\"default\":[{\"background\":\"#ffc107\",\"icon\":{\"className\":\"fas fa-exclamation-triangle\",\"color\":\"white\",\"tagName\":\"i\"},\"type\":\"warning\"},{\"background\":\"#007bff\",\"icon\":{\"className\":\"fas fa-info-circle\",\"color\":\"white\",\"tagName\":\"i\"},\"type\":\"info\"}],\"kind\":null,\"name\":\"types\"}]},{\"extends\":null,\"module\":null,\"name\":\"Notification\",\"overrides\":[],\"properties\":[{\"default\":null,\"kind\":null,\"name\":\"background\"},{\"default\":3000,\"kind\":null,\"name\":\"duration\"},{\"default\":null,\"kind\":null,\"name\":\"icon\"},{\"default\":\"\",\"kind\":null,\"name\":\"message\"},{\"default\":null,\"kind\":null,\"name\":\"notification_type\"},{\"default\":false,\"kind\":null,\"name\":\"_destroyed\"}]},{\"extends\":null,\"module\":null,\"name\":\"TemplateActions1\",\"overrides\":[],\"properties\":[{\"default\":0,\"kind\":null,\"name\":\"open_modal\"},{\"default\":0,\"kind\":null,\"name\":\"close_modal\"}]},{\"extends\":null,\"module\":null,\"name\":\"MaterialTemplateActions1\",\"overrides\":[],\"properties\":[{\"default\":0,\"kind\":null,\"name\":\"open_modal\"},{\"default\":0,\"kind\":null,\"name\":\"close_modal\"}]}],\"roots\":{\"references\":[{\"attributes\":{\"label\":{\"value\":\"TSLA's Revenue\"},\"renderers\":[{\"id\":\"3682\"}]},\"id\":\"3695\",\"type\":\"LegendItem\"},{\"attributes\":{\"coordinates\":null,\"group\":null,\"text_color\":\"black\",\"text_font_size\":\"12pt\"},\"id\":\"3616\",\"type\":\"Title\"},{\"attributes\":{},\"id\":\"3655\",\"type\":\"Selection\"},{\"attributes\":{\"label\":{\"value\":\"Ford's Revenue\"},\"renderers\":[{\"id\":\"3661\"}]},\"id\":\"3673\",\"type\":\"LegendItem\"},{\"attributes\":{\"coordinates\":null,\"data_source\":{\"id\":\"3654\"},\"glyph\":{\"id\":\"3657\"},\"group\":null,\"hover_glyph\":{\"id\":\"3659\"},\"muted_glyph\":{\"id\":\"3660\"},\"nonselection_glyph\":{\"id\":\"3658\"},\"selection_glyph\":{\"id\":\"3674\"},\"view\":{\"id\":\"3662\"}},\"id\":\"3661\",\"type\":\"GlyphRenderer\"},{\"attributes\":{\"line_color\":\"orange\",\"line_width\":2,\"x\":{\"field\":\"Ticker \"},\"y\":{\"field\":\"F\"}},\"id\":\"3674\",\"type\":\"Line\"},{\"attributes\":{\"factors\":[\"Total Revenue (FQ22023) ($000)\",\"Total Revenue (FQ12023) ($000)\",\"Total Revenue (FQ42022) ($000)\",\"Total Revenue (FQ32022) ($000)\",\"Total Revenue (FQ22022) ($000)\"],\"tags\":[[[\"Ticker \",\"Ticker \",null]]]},\"id\":\"3611\",\"type\":\"FactorRange\"},{\"attributes\":{\"active_drag\":{\"id\":\"3632\"},\"active_scroll\":{\"id\":\"3633\"},\"tools\":[{\"id\":\"3613\"},{\"id\":\"3614\"},{\"id\":\"3631\"},{\"id\":\"3632\"},{\"id\":\"3633\"},{\"id\":\"3634\"},{\"id\":\"3635\"}]},\"id\":\"3637\",\"type\":\"Toolbar\"},{\"attributes\":{\"axis_label\":\"Revenue\",\"coordinates\":null,\"formatter\":{\"id\":\"3647\"},\"group\":null,\"major_label_orientation\":0.7853981633974483,\"major_label_policy\":{\"id\":\"3648\"},\"ticker\":{\"id\":\"3625\"}},\"id\":\"3624\",\"type\":\"CategoricalAxis\"},{\"attributes\":{},\"id\":\"3622\",\"type\":\"LinearScale\"},{\"attributes\":{\"click_policy\":\"mute\",\"coordinates\":null,\"group\":null,\"items\":[{\"id\":\"3673\"},{\"id\":\"3695\"}]},\"id\":\"3672\",\"type\":\"Legend\"},{\"attributes\":{\"axis\":{\"id\":\"3624\"},\"coordinates\":null,\"grid_line_color\":null,\"group\":null,\"ticker\":null},\"id\":\"3626\",\"type\":\"Grid\"},{\"attributes\":{\"line_color\":\"yellow\",\"line_width\":2,\"x\":{\"field\":\"Ticker \"},\"y\":{\"field\":\"F\"}},\"id\":\"3659\",\"type\":\"Line\"},{\"attributes\":{\"line_color\":\"blue\",\"line_width\":2,\"x\":{\"field\":\"Ticker \"},\"y\":{\"field\":\"TSLA\"}},\"id\":\"3678\",\"type\":\"Line\"},{\"attributes\":{},\"id\":\"3632\",\"type\":\"PanTool\"},{\"attributes\":{\"source\":{\"id\":\"3654\"}},\"id\":\"3662\",\"type\":\"CDSView\"},{\"attributes\":{\"axis_label\":\"F\",\"coordinates\":null,\"formatter\":{\"id\":\"3645\"},\"group\":null,\"major_label_policy\":{\"id\":\"3651\"},\"ticker\":{\"id\":\"3628\"}},\"id\":\"3627\",\"type\":\"LinearAxis\"},{\"attributes\":{\"axis\":{\"id\":\"3627\"},\"coordinates\":null,\"dimension\":1,\"grid_line_color\":null,\"group\":null,\"ticker\":null},\"id\":\"3630\",\"type\":\"Grid\"},{\"attributes\":{},\"id\":\"3628\",\"type\":\"BasicTicker\"},{\"attributes\":{\"end\":47756000.0,\"reset_end\":47756000.0,\"reset_start\":14132000.0,\"start\":14132000.0,\"tags\":[[[\"F\",\"F\",null]]]},\"id\":\"3612\",\"type\":\"Range1d\"},{\"attributes\":{},\"id\":\"3633\",\"type\":\"WheelZoomTool\"},{\"attributes\":{},\"id\":\"3676\",\"type\":\"Selection\"},{\"attributes\":{},\"id\":\"3631\",\"type\":\"SaveTool\"},{\"attributes\":{\"line_color\":\"orange\",\"line_width\":2,\"x\":{\"field\":\"Ticker \"},\"y\":{\"field\":\"F\"}},\"id\":\"3657\",\"type\":\"Line\"},{\"attributes\":{\"overlay\":{\"id\":\"3636\"}},\"id\":\"3634\",\"type\":\"BoxZoomTool\"},{\"attributes\":{\"line_alpha\":0.2,\"line_color\":\"blue\",\"line_width\":2,\"x\":{\"field\":\"Ticker \"},\"y\":{\"field\":\"TSLA\"}},\"id\":\"3681\",\"type\":\"Line\"},{\"attributes\":{\"line_color\":\"blue\",\"line_width\":2,\"x\":{\"field\":\"Ticker \"},\"y\":{\"field\":\"TSLA\"}},\"id\":\"3696\",\"type\":\"Line\"},{\"attributes\":{},\"id\":\"3635\",\"type\":\"ResetTool\"},{\"attributes\":{},\"id\":\"3651\",\"type\":\"AllLabels\"},{\"attributes\":{\"coordinates\":null,\"data_source\":{\"id\":\"3675\"},\"glyph\":{\"id\":\"3678\"},\"group\":null,\"hover_glyph\":{\"id\":\"3680\"},\"muted_glyph\":{\"id\":\"3681\"},\"nonselection_glyph\":{\"id\":\"3679\"},\"selection_glyph\":{\"id\":\"3696\"},\"view\":{\"id\":\"3683\"}},\"id\":\"3682\",\"type\":\"GlyphRenderer\"},{\"attributes\":{\"bottom_units\":\"screen\",\"coordinates\":null,\"fill_alpha\":0.5,\"fill_color\":\"lightgrey\",\"group\":null,\"left_units\":\"screen\",\"level\":\"overlay\",\"line_alpha\":1.0,\"line_color\":\"black\",\"line_dash\":[4,4],\"line_width\":2,\"right_units\":\"screen\",\"syncable\":false,\"top_units\":\"screen\"},\"id\":\"3636\",\"type\":\"BoxAnnotation\"},{\"attributes\":{\"line_color\":\"red\",\"line_width\":2,\"x\":{\"field\":\"Ticker \"},\"y\":{\"field\":\"TSLA\"}},\"id\":\"3680\",\"type\":\"Line\"},{\"attributes\":{},\"id\":\"3647\",\"type\":\"CategoricalTickFormatter\"},{\"attributes\":{},\"id\":\"3692\",\"type\":\"UnionRenderers\"},{\"attributes\":{\"source\":{\"id\":\"3675\"}},\"id\":\"3683\",\"type\":\"CDSView\"},{\"attributes\":{\"line_alpha\":0.1,\"line_color\":\"blue\",\"line_width\":2,\"x\":{\"field\":\"Ticker \"},\"y\":{\"field\":\"TSLA\"}},\"id\":\"3679\",\"type\":\"Line\"},{\"attributes\":{\"line_alpha\":0.1,\"line_color\":\"orange\",\"line_width\":2,\"x\":{\"field\":\"Ticker \"},\"y\":{\"field\":\"F\"}},\"id\":\"3658\",\"type\":\"Line\"},{\"attributes\":{},\"id\":\"3625\",\"type\":\"CategoricalTicker\"},{\"attributes\":{\"format\":\"%.0f\"},\"id\":\"3645\",\"type\":\"PrintfTickFormatter\"},{\"attributes\":{\"callback\":null,\"renderers\":[{\"id\":\"3682\"}],\"tags\":[\"hv_created\"],\"tooltips\":[[\"Ticker \",\"@{Ticker}\"],[\"TSLA\",\"@{TSLA}\"]]},\"id\":\"3614\",\"type\":\"HoverTool\"},{\"attributes\":{},\"id\":\"3669\",\"type\":\"UnionRenderers\"},{\"attributes\":{\"data\":{\"F\":{\"__ndarray__\":\"AAAAgIxvhUEAAACAvsaDQQAAAMD4+oRBAAAAAJjIgkEAAACAASqDQQ==\",\"dtype\":\"float64\",\"order\":\"little\",\"shape\":[5]},\"Ticker\":[\"Total Revenue (FQ22023) ($000)\",\"Total Revenue (FQ12023) ($000)\",\"Total Revenue (FQ42022) ($000)\",\"Total Revenue (FQ32022) ($000)\",\"Total Revenue (FQ22022) ($000)\"],\"Ticker \":[\"Total Revenue (FQ22023) ($000)\",\"Total Revenue (FQ12023) ($000)\",\"Total Revenue (FQ42022) ($000)\",\"Total Revenue (FQ32022) ($000)\",\"Total Revenue (FQ22022) ($000)\"]},\"selected\":{\"id\":\"3655\"},\"selection_policy\":{\"id\":\"3669\"}},\"id\":\"3654\",\"type\":\"ColumnDataSource\"},{\"attributes\":{\"below\":[{\"id\":\"3624\"}],\"center\":[{\"id\":\"3626\"},{\"id\":\"3630\"},{\"id\":\"3672\"}],\"height\":300,\"left\":[{\"id\":\"3627\"}],\"margin\":[5,5,5,5],\"min_border_bottom\":10,\"min_border_left\":10,\"min_border_right\":10,\"min_border_top\":10,\"renderers\":[{\"id\":\"3661\"},{\"id\":\"3682\"}],\"sizing_mode\":\"fixed\",\"title\":{\"id\":\"3616\"},\"toolbar\":{\"id\":\"3637\"},\"width\":700,\"x_range\":{\"id\":\"3611\"},\"x_scale\":{\"id\":\"3620\"},\"y_range\":{\"id\":\"3612\"},\"y_scale\":{\"id\":\"3622\"}},\"id\":\"3615\",\"subtype\":\"Figure\",\"type\":\"Plot\"},{\"attributes\":{\"line_alpha\":0.2,\"line_color\":\"orange\",\"line_width\":2,\"x\":{\"field\":\"Ticker \"},\"y\":{\"field\":\"F\"}},\"id\":\"3660\",\"type\":\"Line\"},{\"attributes\":{},\"id\":\"3648\",\"type\":\"AllLabels\"},{\"attributes\":{\"callback\":null,\"renderers\":[{\"id\":\"3661\"}],\"tags\":[\"hv_created\"],\"tooltips\":[[\"Ticker \",\"@{Ticker}\"],[\"F\",\"@{F}\"]]},\"id\":\"3613\",\"type\":\"HoverTool\"},{\"attributes\":{\"children\":[{\"id\":\"3615\"}],\"height\":300,\"margin\":[0,0,0,0],\"name\":\"Row04052\",\"sizing_mode\":\"fixed\",\"tags\":[\"embedded\"],\"width\":700},\"id\":\"3610\",\"type\":\"Row\"},{\"attributes\":{\"data\":{\"TSLA\":{\"__ndarray__\":\"AAAAgLHFd0EAAACAjj92QQAAAAADMXdBAAAAAMt1dEEAAAAARyZwQQ==\",\"dtype\":\"float64\",\"order\":\"little\",\"shape\":[5]},\"Ticker\":[\"Total Revenue (FQ22023) ($000)\",\"Total Revenue (FQ12023) ($000)\",\"Total Revenue (FQ42022) ($000)\",\"Total Revenue (FQ32022) ($000)\",\"Total Revenue (FQ22022) ($000)\"],\"Ticker \":[\"Total Revenue (FQ22023) ($000)\",\"Total Revenue (FQ12023) ($000)\",\"Total Revenue (FQ42022) ($000)\",\"Total Revenue (FQ32022) ($000)\",\"Total Revenue (FQ22022) ($000)\"]},\"selected\":{\"id\":\"3676\"},\"selection_policy\":{\"id\":\"3692\"}},\"id\":\"3675\",\"type\":\"ColumnDataSource\"},{\"attributes\":{},\"id\":\"3620\",\"type\":\"CategoricalScale\"}],\"root_ids\":[\"3610\"]},\"title\":\"Bokeh Application\",\"version\":\"2.4.3\"}};\n",
       "    var render_items = [{\"docid\":\"af414c61-6798-400f-9406-618bb68b2fe2\",\"root_ids\":[\"3610\"],\"roots\":{\"3610\":\"91e3f0bc-6709-4314-b4e9-cb1f0d3c21ce\"}}];\n",
       "    root.Bokeh.embed.embed_items_notebook(docs_json, render_items);\n",
       "    for (const render_item of render_items) {\n",
       "      for (const root_id of render_item.root_ids) {\n",
       "\tconst id_el = document.getElementById(root_id)\n",
       "\tif (id_el.children.length && (id_el.children[0].className === 'bk-root')) {\n",
       "\t  const root_el = id_el.children[0]\n",
       "\t  root_el.id = root_el.id + '-rendered'\n",
       "\t}\n",
       "      }\n",
       "    }\n",
       "  }\n",
       "  if (root.Bokeh !== undefined && root.Bokeh.Panel !== undefined) {\n",
       "    embed_document(root);\n",
       "  } else {\n",
       "    var attempts = 0;\n",
       "    var timer = setInterval(function(root) {\n",
       "      if (root.Bokeh !== undefined && root.Bokeh.Panel !== undefined) {\n",
       "        clearInterval(timer);\n",
       "        embed_document(root);\n",
       "      } else if (document.readyState == \"complete\") {\n",
       "        attempts++;\n",
       "        if (attempts > 200) {\n",
       "          clearInterval(timer);\n",
       "          console.log(\"Bokeh: ERROR: Unable to run BokehJS code because BokehJS library is missing\");\n",
       "        }\n",
       "      }\n",
       "    }, 25, root)\n",
       "  }\n",
       "})(window);</script>"
      ],
      "text/plain": [
       ":Overlay\n",
       "   .Curve.Ford_apostrophe_s_Revenue :Curve   [Ticker ]   (F)\n",
       "   .Curve.TSLA_apostrophe_s_Revenue :Curve   [Ticker ]   (TSLA)"
      ]
     },
     "execution_count": 63,
     "metadata": {
      "application/vnd.holoviews_exec.v0+json": {
       "id": "3610"
      }
     },
     "output_type": "execute_result"
    }
   ],
   "source": [
    "# Create an overlay plot for the two visualizations\n",
    "F_plot * tsla_plot"
   ]
  },
  {
   "cell_type": "markdown",
   "metadata": {},
   "source": [
    "## Step 10: Add a title to the overlay plot. Additionally, adjust height, width and background color."
   ]
  },
  {
   "cell_type": "code",
   "execution_count": 64,
   "metadata": {},
   "outputs": [
    {
     "data": {},
     "metadata": {},
     "output_type": "display_data"
    },
    {
     "data": {
      "application/vnd.holoviews_exec.v0+json": "",
      "text/html": [
       "<div id='3768'>\n",
       "  <div class=\"bk-root\" id=\"b6cb311c-d71a-40ce-b75b-9278b82db5e7\" data-root-id=\"3768\"></div>\n",
       "</div>\n",
       "<script type=\"application/javascript\">(function(root) {\n",
       "  function embed_document(root) {\n",
       "    var docs_json = {\"4e976669-bde5-4dd5-b2fa-0f7e44240a78\":{\"defs\":[{\"extends\":null,\"module\":null,\"name\":\"ReactiveHTML1\",\"overrides\":[],\"properties\":[]},{\"extends\":null,\"module\":null,\"name\":\"FlexBox1\",\"overrides\":[],\"properties\":[{\"default\":\"flex-start\",\"kind\":null,\"name\":\"align_content\"},{\"default\":\"flex-start\",\"kind\":null,\"name\":\"align_items\"},{\"default\":\"row\",\"kind\":null,\"name\":\"flex_direction\"},{\"default\":\"wrap\",\"kind\":null,\"name\":\"flex_wrap\"},{\"default\":\"flex-start\",\"kind\":null,\"name\":\"justify_content\"}]},{\"extends\":null,\"module\":null,\"name\":\"GridStack1\",\"overrides\":[],\"properties\":[{\"default\":\"warn\",\"kind\":null,\"name\":\"mode\"},{\"default\":null,\"kind\":null,\"name\":\"ncols\"},{\"default\":null,\"kind\":null,\"name\":\"nrows\"},{\"default\":true,\"kind\":null,\"name\":\"allow_resize\"},{\"default\":true,\"kind\":null,\"name\":\"allow_drag\"},{\"default\":[],\"kind\":null,\"name\":\"state\"}]},{\"extends\":null,\"module\":null,\"name\":\"click1\",\"overrides\":[],\"properties\":[{\"default\":\"\",\"kind\":null,\"name\":\"terminal_output\"},{\"default\":\"\",\"kind\":null,\"name\":\"debug_name\"},{\"default\":0,\"kind\":null,\"name\":\"clears\"}]},{\"extends\":null,\"module\":null,\"name\":\"NotificationAreaBase1\",\"overrides\":[],\"properties\":[{\"default\":\"bottom-right\",\"kind\":null,\"name\":\"position\"},{\"default\":0,\"kind\":null,\"name\":\"_clear\"}]},{\"extends\":null,\"module\":null,\"name\":\"NotificationArea1\",\"overrides\":[],\"properties\":[{\"default\":[],\"kind\":null,\"name\":\"notifications\"},{\"default\":\"bottom-right\",\"kind\":null,\"name\":\"position\"},{\"default\":0,\"kind\":null,\"name\":\"_clear\"},{\"default\":[{\"background\":\"#ffc107\",\"icon\":{\"className\":\"fas fa-exclamation-triangle\",\"color\":\"white\",\"tagName\":\"i\"},\"type\":\"warning\"},{\"background\":\"#007bff\",\"icon\":{\"className\":\"fas fa-info-circle\",\"color\":\"white\",\"tagName\":\"i\"},\"type\":\"info\"}],\"kind\":null,\"name\":\"types\"}]},{\"extends\":null,\"module\":null,\"name\":\"Notification\",\"overrides\":[],\"properties\":[{\"default\":null,\"kind\":null,\"name\":\"background\"},{\"default\":3000,\"kind\":null,\"name\":\"duration\"},{\"default\":null,\"kind\":null,\"name\":\"icon\"},{\"default\":\"\",\"kind\":null,\"name\":\"message\"},{\"default\":null,\"kind\":null,\"name\":\"notification_type\"},{\"default\":false,\"kind\":null,\"name\":\"_destroyed\"}]},{\"extends\":null,\"module\":null,\"name\":\"TemplateActions1\",\"overrides\":[],\"properties\":[{\"default\":0,\"kind\":null,\"name\":\"open_modal\"},{\"default\":0,\"kind\":null,\"name\":\"close_modal\"}]},{\"extends\":null,\"module\":null,\"name\":\"MaterialTemplateActions1\",\"overrides\":[],\"properties\":[{\"default\":0,\"kind\":null,\"name\":\"open_modal\"},{\"default\":0,\"kind\":null,\"name\":\"close_modal\"}]}],\"roots\":{\"references\":[{\"attributes\":{\"end\":47756000.0,\"reset_end\":47756000.0,\"reset_start\":14132000.0,\"start\":14132000.0,\"tags\":[[[\"F\",\"F\",null]]]},\"id\":\"3770\",\"type\":\"Range1d\"},{\"attributes\":{\"line_color\":\"orange\",\"line_width\":2,\"x\":{\"field\":\"Ticker \"},\"y\":{\"field\":\"F\"}},\"id\":\"3832\",\"type\":\"Line\"},{\"attributes\":{},\"id\":\"3809\",\"type\":\"AllLabels\"},{\"attributes\":{},\"id\":\"3780\",\"type\":\"LinearScale\"},{\"attributes\":{\"active_drag\":{\"id\":\"3790\"},\"active_scroll\":{\"id\":\"3791\"},\"tools\":[{\"id\":\"3771\"},{\"id\":\"3772\"},{\"id\":\"3789\"},{\"id\":\"3790\"},{\"id\":\"3791\"},{\"id\":\"3792\"},{\"id\":\"3793\"}]},\"id\":\"3795\",\"type\":\"Toolbar\"},{\"attributes\":{},\"id\":\"3783\",\"type\":\"CategoricalTicker\"},{\"attributes\":{},\"id\":\"3790\",\"type\":\"PanTool\"},{\"attributes\":{},\"id\":\"3813\",\"type\":\"Selection\"},{\"attributes\":{\"line_color\":\"orange\",\"line_width\":2,\"x\":{\"field\":\"Ticker \"},\"y\":{\"field\":\"F\"}},\"id\":\"3815\",\"type\":\"Line\"},{\"attributes\":{\"axis\":{\"id\":\"3782\"},\"coordinates\":null,\"grid_line_color\":null,\"group\":null,\"ticker\":null},\"id\":\"3784\",\"type\":\"Grid\"},{\"attributes\":{\"line_color\":\"blue\",\"line_width\":2,\"x\":{\"field\":\"Ticker \"},\"y\":{\"field\":\"TSLA\"}},\"id\":\"3836\",\"type\":\"Line\"},{\"attributes\":{},\"id\":\"3806\",\"type\":\"AllLabels\"},{\"attributes\":{\"axis_label\":\"F\",\"coordinates\":null,\"formatter\":{\"id\":\"3803\"},\"group\":null,\"major_label_policy\":{\"id\":\"3809\"},\"ticker\":{\"id\":\"3786\"}},\"id\":\"3785\",\"type\":\"LinearAxis\"},{\"attributes\":{\"data\":{\"F\":{\"__ndarray__\":\"AAAAgIxvhUEAAACAvsaDQQAAAMD4+oRBAAAAAJjIgkEAAACAASqDQQ==\",\"dtype\":\"float64\",\"order\":\"little\",\"shape\":[5]},\"Ticker\":[\"Total Revenue (FQ22023) ($000)\",\"Total Revenue (FQ12023) ($000)\",\"Total Revenue (FQ42022) ($000)\",\"Total Revenue (FQ32022) ($000)\",\"Total Revenue (FQ22022) ($000)\"],\"Ticker \":[\"Total Revenue (FQ22023) ($000)\",\"Total Revenue (FQ12023) ($000)\",\"Total Revenue (FQ42022) ($000)\",\"Total Revenue (FQ32022) ($000)\",\"Total Revenue (FQ22022) ($000)\"]},\"selected\":{\"id\":\"3813\"},\"selection_policy\":{\"id\":\"3827\"}},\"id\":\"3812\",\"type\":\"ColumnDataSource\"},{\"attributes\":{\"axis\":{\"id\":\"3785\"},\"coordinates\":null,\"dimension\":1,\"grid_line_color\":null,\"group\":null,\"ticker\":null},\"id\":\"3788\",\"type\":\"Grid\"},{\"attributes\":{},\"id\":\"3786\",\"type\":\"BasicTicker\"},{\"attributes\":{},\"id\":\"3791\",\"type\":\"WheelZoomTool\"},{\"attributes\":{},\"id\":\"3834\",\"type\":\"Selection\"},{\"attributes\":{},\"id\":\"3789\",\"type\":\"SaveTool\"},{\"attributes\":{\"line_alpha\":0.2,\"line_color\":\"orange\",\"line_width\":2,\"x\":{\"field\":\"Ticker \"},\"y\":{\"field\":\"F\"}},\"id\":\"3818\",\"type\":\"Line\"},{\"attributes\":{\"data\":{\"TSLA\":{\"__ndarray__\":\"AAAAgLHFd0EAAACAjj92QQAAAAADMXdBAAAAAMt1dEEAAAAARyZwQQ==\",\"dtype\":\"float64\",\"order\":\"little\",\"shape\":[5]},\"Ticker\":[\"Total Revenue (FQ22023) ($000)\",\"Total Revenue (FQ12023) ($000)\",\"Total Revenue (FQ42022) ($000)\",\"Total Revenue (FQ32022) ($000)\",\"Total Revenue (FQ22022) ($000)\"],\"Ticker \":[\"Total Revenue (FQ22023) ($000)\",\"Total Revenue (FQ12023) ($000)\",\"Total Revenue (FQ42022) ($000)\",\"Total Revenue (FQ32022) ($000)\",\"Total Revenue (FQ22022) ($000)\"]},\"selected\":{\"id\":\"3834\"},\"selection_policy\":{\"id\":\"3850\"}},\"id\":\"3833\",\"type\":\"ColumnDataSource\"},{\"attributes\":{\"click_policy\":\"mute\",\"coordinates\":null,\"group\":null,\"items\":[{\"id\":\"3831\"},{\"id\":\"3853\"}]},\"id\":\"3830\",\"type\":\"Legend\"},{\"attributes\":{\"overlay\":{\"id\":\"3794\"}},\"id\":\"3792\",\"type\":\"BoxZoomTool\"},{\"attributes\":{\"coordinates\":null,\"data_source\":{\"id\":\"3812\"},\"glyph\":{\"id\":\"3815\"},\"group\":null,\"hover_glyph\":{\"id\":\"3817\"},\"muted_glyph\":{\"id\":\"3818\"},\"nonselection_glyph\":{\"id\":\"3816\"},\"selection_glyph\":{\"id\":\"3832\"},\"view\":{\"id\":\"3820\"}},\"id\":\"3819\",\"type\":\"GlyphRenderer\"},{\"attributes\":{\"children\":[{\"id\":\"3773\"}],\"height\":500,\"margin\":[0,0,0,0],\"name\":\"Row04148\",\"sizing_mode\":\"fixed\",\"tags\":[\"embedded\"],\"width\":1000},\"id\":\"3768\",\"type\":\"Row\"},{\"attributes\":{\"line_alpha\":0.1,\"line_color\":\"orange\",\"line_width\":2,\"x\":{\"field\":\"Ticker \"},\"y\":{\"field\":\"F\"}},\"id\":\"3816\",\"type\":\"Line\"},{\"attributes\":{\"line_color\":\"blue\",\"line_width\":2,\"x\":{\"field\":\"Ticker \"},\"y\":{\"field\":\"TSLA\"}},\"id\":\"3854\",\"type\":\"Line\"},{\"attributes\":{\"line_alpha\":0.2,\"line_color\":\"blue\",\"line_width\":2,\"x\":{\"field\":\"Ticker \"},\"y\":{\"field\":\"TSLA\"}},\"id\":\"3839\",\"type\":\"Line\"},{\"attributes\":{},\"id\":\"3793\",\"type\":\"ResetTool\"},{\"attributes\":{\"coordinates\":null,\"data_source\":{\"id\":\"3833\"},\"glyph\":{\"id\":\"3836\"},\"group\":null,\"hover_glyph\":{\"id\":\"3838\"},\"muted_glyph\":{\"id\":\"3839\"},\"nonselection_glyph\":{\"id\":\"3837\"},\"selection_glyph\":{\"id\":\"3854\"},\"view\":{\"id\":\"3841\"}},\"id\":\"3840\",\"type\":\"GlyphRenderer\"},{\"attributes\":{\"callback\":null,\"renderers\":[{\"id\":\"3840\"}],\"tags\":[\"hv_created\"],\"tooltips\":[[\"Ticker \",\"@{Ticker}\"],[\"TSLA\",\"@{TSLA}\"]]},\"id\":\"3772\",\"type\":\"HoverTool\"},{\"attributes\":{\"bottom_units\":\"screen\",\"coordinates\":null,\"fill_alpha\":0.5,\"fill_color\":\"lightgrey\",\"group\":null,\"left_units\":\"screen\",\"level\":\"overlay\",\"line_alpha\":1.0,\"line_color\":\"black\",\"line_dash\":[4,4],\"line_width\":2,\"right_units\":\"screen\",\"syncable\":false,\"top_units\":\"screen\"},\"id\":\"3794\",\"type\":\"BoxAnnotation\"},{\"attributes\":{\"line_color\":\"red\",\"line_width\":2,\"x\":{\"field\":\"Ticker \"},\"y\":{\"field\":\"TSLA\"}},\"id\":\"3838\",\"type\":\"Line\"},{\"attributes\":{},\"id\":\"3805\",\"type\":\"CategoricalTickFormatter\"},{\"attributes\":{},\"id\":\"3827\",\"type\":\"UnionRenderers\"},{\"attributes\":{\"source\":{\"id\":\"3812\"}},\"id\":\"3820\",\"type\":\"CDSView\"},{\"attributes\":{\"format\":\"%.0f\"},\"id\":\"3803\",\"type\":\"PrintfTickFormatter\"},{\"attributes\":{},\"id\":\"3850\",\"type\":\"UnionRenderers\"},{\"attributes\":{\"source\":{\"id\":\"3833\"}},\"id\":\"3841\",\"type\":\"CDSView\"},{\"attributes\":{\"coordinates\":null,\"group\":null,\"text\":\"Revenue - Ford versus TSLA\",\"text_color\":\"black\",\"text_font_size\":\"12pt\"},\"id\":\"3774\",\"type\":\"Title\"},{\"attributes\":{},\"id\":\"3778\",\"type\":\"CategoricalScale\"},{\"attributes\":{\"line_color\":\"yellow\",\"line_width\":2,\"x\":{\"field\":\"Ticker \"},\"y\":{\"field\":\"F\"}},\"id\":\"3817\",\"type\":\"Line\"},{\"attributes\":{\"line_alpha\":0.1,\"line_color\":\"blue\",\"line_width\":2,\"x\":{\"field\":\"Ticker \"},\"y\":{\"field\":\"TSLA\"}},\"id\":\"3837\",\"type\":\"Line\"},{\"attributes\":{\"background_fill_color\":\"lightgrey\",\"below\":[{\"id\":\"3782\"}],\"center\":[{\"id\":\"3784\"},{\"id\":\"3788\"},{\"id\":\"3830\"}],\"height\":500,\"left\":[{\"id\":\"3785\"}],\"margin\":[5,5,5,5],\"min_border_bottom\":10,\"min_border_left\":10,\"min_border_right\":10,\"min_border_top\":10,\"renderers\":[{\"id\":\"3819\"},{\"id\":\"3840\"}],\"sizing_mode\":\"fixed\",\"title\":{\"id\":\"3774\"},\"toolbar\":{\"id\":\"3795\"},\"width\":1000,\"x_range\":{\"id\":\"3769\"},\"x_scale\":{\"id\":\"3778\"},\"y_range\":{\"id\":\"3770\"},\"y_scale\":{\"id\":\"3780\"}},\"id\":\"3773\",\"subtype\":\"Figure\",\"type\":\"Plot\"},{\"attributes\":{\"callback\":null,\"renderers\":[{\"id\":\"3819\"}],\"tags\":[\"hv_created\"],\"tooltips\":[[\"Ticker \",\"@{Ticker}\"],[\"F\",\"@{F}\"]]},\"id\":\"3771\",\"type\":\"HoverTool\"},{\"attributes\":{\"factors\":[\"Total Revenue (FQ22023) ($000)\",\"Total Revenue (FQ12023) ($000)\",\"Total Revenue (FQ42022) ($000)\",\"Total Revenue (FQ32022) ($000)\",\"Total Revenue (FQ22022) ($000)\"],\"tags\":[[[\"Ticker \",\"Ticker \",null]]]},\"id\":\"3769\",\"type\":\"FactorRange\"},{\"attributes\":{\"label\":{\"value\":\"TSLA's Revenue\"},\"renderers\":[{\"id\":\"3840\"}]},\"id\":\"3853\",\"type\":\"LegendItem\"},{\"attributes\":{\"axis_label\":\"Revenue\",\"coordinates\":null,\"formatter\":{\"id\":\"3805\"},\"group\":null,\"major_label_orientation\":0.7853981633974483,\"major_label_policy\":{\"id\":\"3806\"},\"ticker\":{\"id\":\"3783\"}},\"id\":\"3782\",\"type\":\"CategoricalAxis\"},{\"attributes\":{\"label\":{\"value\":\"Ford's Revenue\"},\"renderers\":[{\"id\":\"3819\"}]},\"id\":\"3831\",\"type\":\"LegendItem\"}],\"root_ids\":[\"3768\"]},\"title\":\"Bokeh Application\",\"version\":\"2.4.3\"}};\n",
       "    var render_items = [{\"docid\":\"4e976669-bde5-4dd5-b2fa-0f7e44240a78\",\"root_ids\":[\"3768\"],\"roots\":{\"3768\":\"b6cb311c-d71a-40ce-b75b-9278b82db5e7\"}}];\n",
       "    root.Bokeh.embed.embed_items_notebook(docs_json, render_items);\n",
       "    for (const render_item of render_items) {\n",
       "      for (const root_id of render_item.root_ids) {\n",
       "\tconst id_el = document.getElementById(root_id)\n",
       "\tif (id_el.children.length && (id_el.children[0].className === 'bk-root')) {\n",
       "\t  const root_el = id_el.children[0]\n",
       "\t  root_el.id = root_el.id + '-rendered'\n",
       "\t}\n",
       "      }\n",
       "    }\n",
       "  }\n",
       "  if (root.Bokeh !== undefined && root.Bokeh.Panel !== undefined) {\n",
       "    embed_document(root);\n",
       "  } else {\n",
       "    var attempts = 0;\n",
       "    var timer = setInterval(function(root) {\n",
       "      if (root.Bokeh !== undefined && root.Bokeh.Panel !== undefined) {\n",
       "        clearInterval(timer);\n",
       "        embed_document(root);\n",
       "      } else if (document.readyState == \"complete\") {\n",
       "        attempts++;\n",
       "        if (attempts > 200) {\n",
       "          clearInterval(timer);\n",
       "          console.log(\"Bokeh: ERROR: Unable to run BokehJS code because BokehJS library is missing\");\n",
       "        }\n",
       "      }\n",
       "    }, 25, root)\n",
       "  }\n",
       "})(window);</script>"
      ],
      "text/plain": [
       ":Overlay\n",
       "   .Curve.Ford_apostrophe_s_Revenue :Curve   [Ticker ]   (F)\n",
       "   .Curve.TSLA_apostrophe_s_Revenue :Curve   [Ticker ]   (TSLA)"
      ]
     },
     "execution_count": 64,
     "metadata": {
      "application/vnd.holoviews_exec.v0+json": {
       "id": "3768"
      }
     },
     "output_type": "execute_result"
    }
   ],
   "source": [
    "# Adjust the title, height, width and background color of the overlay plot\n",
    "(F_plot * tsla_plot).opts(\n",
    "    title=\"Revenue - Ford versus TSLA\",\n",
    "    bgcolor=\"lightgrey\", \n",
    "    height=500,\n",
    "    width=1000,\n",
    ")"
   ]
  }
 ],
 "metadata": {
  "kernelspec": {
   "display_name": "Python 3 (ipykernel)",
   "language": "python",
   "name": "python3"
  },
  "language_info": {
   "codemirror_mode": {
    "name": "ipython",
    "version": 3
   },
   "file_extension": ".py",
   "mimetype": "text/x-python",
   "name": "python",
   "nbconvert_exporter": "python",
   "pygments_lexer": "ipython3",
   "version": "3.10.9"
  }
 },
 "nbformat": 4,
 "nbformat_minor": 4
}
